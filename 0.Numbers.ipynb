{
  "nbformat": 4,
  "nbformat_minor": 0,
  "metadata": {
    "anaconda-cloud": {},
    "kernelspec": {
      "name": "python3",
      "display_name": "Python 3"
    },
    "colab": {
      "name": "0.Numbers.ipynb",
      "version": "0.3.2",
      "provenance": [],
      "include_colab_link": true
    }
  },
  "cells": [
    {
      "cell_type": "markdown",
      "metadata": {
        "id": "view-in-github",
        "colab_type": "text"
      },
      "source": [
        "<a href=\"https://colab.research.google.com/github/mgautam98/PyProject/blob/master/0.Numbers.ipynb\" target=\"_parent\"><img src=\"https://colab.research.google.com/assets/colab-badge.svg\" alt=\"Open In Colab\"/></a>"
      ]
    },
    {
      "cell_type": "markdown",
      "metadata": {
        "id": "2lVsU_Xma8Q7",
        "colab_type": "text"
      },
      "source": [
        "# **Hello World in python!**\n",
        "\n",
        "Here we will learn how to print someting in Python."
      ]
    },
    {
      "cell_type": "code",
      "metadata": {
        "id": "ZdstuLpKba37",
        "colab_type": "code",
        "colab": {}
      },
      "source": [
        "print(\"Hello world!\")"
      ],
      "execution_count": 0,
      "outputs": []
    },
    {
      "cell_type": "markdown",
      "metadata": {
        "id": "2giVSUUQb0VA",
        "colab_type": "text"
      },
      "source": [
        "**Bonus**\n",
        "Now you are ready to solve your first ever problem in Python:\n",
        "[Hackerrank : Say \"Hello, World!\" With Python](https://www.hackerrank.com/challenges/py-hello-world/problem)"
      ]
    },
    {
      "cell_type": "markdown",
      "metadata": {
        "id": "YxKWBtMpacx4",
        "colab_type": "text"
      },
      "source": [
        "# Numbers and more in Python!\n",
        "\n",
        "In this lecture, we will learn about numbers in Python and how to use them.\n",
        "\n",
        "We'll learn about the following topics:\n",
        "\n",
        "    1.) Types of Numbers in Python\n",
        "    2.) Basic Arithmetic\n",
        "    3.) Differences between Python 2 vs 3 in division\n",
        "    4.) Object Assignment in Python"
      ]
    },
    {
      "cell_type": "markdown",
      "metadata": {
        "id": "7oVhLmldacx7",
        "colab_type": "text"
      },
      "source": [
        "## Types of numbers\n",
        "\n",
        "Python has various \"types\" of numbers (numeric literals). We'll mainly focus on integers and floating point numbers.\n",
        "\n",
        "Integers are just whole numbers, positive or negative. For example: 2 and -2 are examples of integers.\n",
        "\n",
        "Floating point numbers in Python are notable because they have a decimal point in them, or use an exponential (e) to define the number. For example 2.0 and -2.1 are examples of floating point numbers. 4E2 (4 times 10 to the power of 2) is also an example of a floating point number in Python.\n",
        "\n",
        "Throughout this course we will be mainly working with integers or simple float number types.\n",
        "\n",
        "Here is a table of the two main types we will spend most of our time working with some examples:"
      ]
    },
    {
      "cell_type": "markdown",
      "metadata": {
        "id": "rQGxqvJMacx9",
        "colab_type": "text"
      },
      "source": [
        "<table>\n",
        "<tr>\n",
        "    <th>Examples</th> \n",
        "    <th>Number \"Type\"</th>\n",
        "</tr>\n",
        "\n",
        "<tr>\n",
        "    <td>1,2,-5,1000</td>\n",
        "    <td>Integers</td> \n",
        "</tr>\n",
        "\n",
        "<tr>\n",
        "    <td>1.2,-0.5,2e2,3E2</td> \n",
        "    <td>Floating-point numbers</td> \n",
        "</tr>\n",
        " </table>"
      ]
    },
    {
      "cell_type": "markdown",
      "metadata": {
        "id": "rGn9oNqMacx-",
        "colab_type": "text"
      },
      "source": [
        " \n",
        " \n",
        "Now let's start with some basic arithmetic."
      ]
    },
    {
      "cell_type": "markdown",
      "metadata": {
        "id": "_cMu1NCnacx_",
        "colab_type": "text"
      },
      "source": [
        "### Basic Arithmetic"
      ]
    },
    {
      "cell_type": "code",
      "metadata": {
        "id": "HZ59ZrawacyA",
        "colab_type": "code",
        "colab": {}
      },
      "source": [
        "# Addition\n",
        "2+1"
      ],
      "execution_count": 0,
      "outputs": []
    },
    {
      "cell_type": "code",
      "metadata": {
        "id": "vgxLsGfIacyH",
        "colab_type": "code",
        "colab": {}
      },
      "source": [
        "# Subtraction\n",
        "2-1"
      ],
      "execution_count": 0,
      "outputs": []
    },
    {
      "cell_type": "code",
      "metadata": {
        "id": "fQe98wTpacyL",
        "colab_type": "code",
        "colab": {}
      },
      "source": [
        "# Multiplication\n",
        "2*2"
      ],
      "execution_count": 0,
      "outputs": []
    },
    {
      "cell_type": "code",
      "metadata": {
        "id": "fZovHYAZacyP",
        "colab_type": "code",
        "colab": {}
      },
      "source": [
        "# Division\n",
        "3/2"
      ],
      "execution_count": 0,
      "outputs": []
    },
    {
      "cell_type": "markdown",
      "metadata": {
        "id": "oB2JIoANacyV",
        "colab_type": "text"
      },
      "source": [
        "### <font color='red'>Python 3 Alert!</font>\n",
        "\n",
        "**Whoa! What just happened? Last time I checked, 3 divided by 2 is equal 1.5 not 1!**\n",
        "\n",
        "The reason we get this result is because we are using Python 2. In Python 2, the / symbol performs what is known as \"*classic*\" division, this means that the decimal points are truncated (cut off). In Python 3 however, a single / performs \"*true*\" division. So you would get 1.5 if you had inputed 3/2 in Python 3.\n",
        "\n",
        "So what do we do if we are using Python 2 to avoid this?\n",
        "\n",
        "There are two options:\n",
        "\n",
        "Specify one of the numbers to be a float:"
      ]
    },
    {
      "cell_type": "code",
      "metadata": {
        "id": "SqHW5c_LacyX",
        "colab_type": "code",
        "colab": {}
      },
      "source": [
        "# Specifying one of the numbers as a float\n",
        "3.0/2"
      ],
      "execution_count": 0,
      "outputs": []
    },
    {
      "cell_type": "code",
      "metadata": {
        "id": "cmn2bpdracyb",
        "colab_type": "code",
        "colab": {}
      },
      "source": [
        "# Works for either number\n",
        "3/2.0"
      ],
      "execution_count": 0,
      "outputs": []
    },
    {
      "cell_type": "markdown",
      "metadata": {
        "id": "ICNGN5V6acyf",
        "colab_type": "text"
      },
      "source": [
        "We could also \"cast\" the type using a function that basically turns integers into floats. This function, unsurprisingly, is called float()."
      ]
    },
    {
      "cell_type": "code",
      "metadata": {
        "id": "D8jUrtCJacyg",
        "colab_type": "code",
        "colab": {}
      },
      "source": [
        "# We can use this float() function to cast integers as floats:\n",
        "float(3)/2"
      ],
      "execution_count": 0,
      "outputs": []
    },
    {
      "cell_type": "markdown",
      "metadata": {
        "id": "tpmYXQ4Uacyo",
        "colab_type": "text"
      },
      "source": [
        "We will go over functions in much more detail later on in this course, so don't worry if you are confused by the syntax here. Consider this a sneak preview.\n",
        "\n",
        "One more \"sneak preview\" we can use to deal with classic division in Python 2 is importing from a module called __future__.\n",
        "\n",
        "This is a module in Python 2 that has Python 3 functions, this basically allows you to import Python 3 functions into Python 2. We will go over imports and modules later in the course, so don't worry about fully understanding the import statement right now!"
      ]
    },
    {
      "cell_type": "code",
      "metadata": {
        "id": "ugUv0eq4acyp",
        "colab_type": "code",
        "colab": {}
      },
      "source": [
        "from __future__ import division\n",
        "3/2"
      ],
      "execution_count": 0,
      "outputs": []
    },
    {
      "cell_type": "markdown",
      "metadata": {
        "id": "4C9NerdLacyu",
        "colab_type": "text"
      },
      "source": [
        "When you import division from the __future__ you won't need to worry about classic division occurring anymore anywhere in your code!"
      ]
    },
    {
      "cell_type": "markdown",
      "metadata": {
        "id": "0BDzHH6sacyx",
        "colab_type": "text"
      },
      "source": [
        "### Arithmetic continued"
      ]
    },
    {
      "cell_type": "code",
      "metadata": {
        "id": "H6bSAtM4acy0",
        "colab_type": "code",
        "colab": {}
      },
      "source": [
        "# Powers\n",
        "2**3"
      ],
      "execution_count": 0,
      "outputs": []
    },
    {
      "cell_type": "code",
      "metadata": {
        "id": "n9VMQ1rHacy6",
        "colab_type": "code",
        "colab": {}
      },
      "source": [
        "# Can also do roots this way\n",
        "4**0.5"
      ],
      "execution_count": 0,
      "outputs": []
    },
    {
      "cell_type": "code",
      "metadata": {
        "id": "mzjqhsRYacy9",
        "colab_type": "code",
        "colab": {}
      },
      "source": [
        "# Order of Operations followed in Python\n",
        "2 + 10 * 10 + 3"
      ],
      "execution_count": 0,
      "outputs": []
    },
    {
      "cell_type": "code",
      "metadata": {
        "id": "YgNMvvA7aczA",
        "colab_type": "code",
        "colab": {}
      },
      "source": [
        "# Can use parenthesis to specify orders\n",
        "(2+10) * (10+3)"
      ],
      "execution_count": 0,
      "outputs": []
    },
    {
      "cell_type": "markdown",
      "metadata": {
        "id": "Z8H5LZQeaczE",
        "colab_type": "text"
      },
      "source": [
        "## Variable Assignments\n",
        "\n",
        "Now that we've seen how to use numbers in Python as a calculator let's see how we can assign names and create variables.\n",
        "\n",
        "We use a single equals sign to assign labels to variables. Let's see a few examples of how we can do this."
      ]
    },
    {
      "cell_type": "code",
      "metadata": {
        "id": "EA3E7TERaczF",
        "colab_type": "code",
        "colab": {}
      },
      "source": [
        "# Let's create an object called \"a\" and assign it the number 5\n",
        "a = 5"
      ],
      "execution_count": 0,
      "outputs": []
    },
    {
      "cell_type": "markdown",
      "metadata": {
        "id": "HNCqNkMVaczI",
        "colab_type": "text"
      },
      "source": [
        "Now if I call *a* in my Python script, Python will treat it as the number 5."
      ]
    },
    {
      "cell_type": "code",
      "metadata": {
        "id": "eOWPvWKCaczJ",
        "colab_type": "code",
        "colab": {}
      },
      "source": [
        "# Adding the objects\n",
        "a+a"
      ],
      "execution_count": 0,
      "outputs": []
    },
    {
      "cell_type": "markdown",
      "metadata": {
        "id": "A4wPU5ovaczM",
        "colab_type": "text"
      },
      "source": [
        "What happens on reassignment? Will Python let us write it over?"
      ]
    },
    {
      "cell_type": "code",
      "metadata": {
        "id": "mJ6AYa6iaczN",
        "colab_type": "code",
        "colab": {}
      },
      "source": [
        "# Reassignment\n",
        "a = 10"
      ],
      "execution_count": 0,
      "outputs": []
    },
    {
      "cell_type": "code",
      "metadata": {
        "id": "34l4RsDWaczR",
        "colab_type": "code",
        "colab": {}
      },
      "source": [
        "# Check\n",
        "a"
      ],
      "execution_count": 0,
      "outputs": []
    },
    {
      "cell_type": "markdown",
      "metadata": {
        "id": "8oQwpai9aczW",
        "colab_type": "text"
      },
      "source": [
        "Yes! Python allows you to write over assigned variable names. We can also use the variables themselves when doing the reassignment. Here is an example of what I mean:"
      ]
    },
    {
      "cell_type": "code",
      "metadata": {
        "id": "n9FyyrwXaczZ",
        "colab_type": "code",
        "colab": {}
      },
      "source": [
        "# Check\n",
        "a"
      ],
      "execution_count": 0,
      "outputs": []
    },
    {
      "cell_type": "code",
      "metadata": {
        "id": "cZrHAB7Xaczh",
        "colab_type": "code",
        "colab": {}
      },
      "source": [
        "# Use A to redefine A\n",
        "a = a + a"
      ],
      "execution_count": 0,
      "outputs": []
    },
    {
      "cell_type": "code",
      "metadata": {
        "id": "ukF9rPONaczn",
        "colab_type": "code",
        "colab": {}
      },
      "source": [
        "# Check \n",
        "a"
      ],
      "execution_count": 0,
      "outputs": []
    },
    {
      "cell_type": "markdown",
      "metadata": {
        "id": "nazWFJgIaczv",
        "colab_type": "text"
      },
      "source": [
        "The names you use when creating these labels need to follow a few rules:\n",
        "\n",
        "    1. Names can not start with a number.\n",
        "    2. There can be no spaces in the name, use _ instead.\n",
        "    3. Can't use any of these symbols :'\",<>/?|\\()!@#$%^&*~-+\n",
        "    3. It's considered best practice (PEP8) that the names are lowercase.\n",
        "\n",
        "Using variable names can be a very useful way to keep track of different variables in Python. For example:"
      ]
    },
    {
      "cell_type": "code",
      "metadata": {
        "id": "BtSmunjCaczy",
        "colab_type": "code",
        "colab": {}
      },
      "source": [
        "# Use object names to keep better track of what's going on in your code!\n",
        "my_income = 100\n",
        "\n",
        "tax_rate = 0.1\n",
        "\n",
        "my_taxes = my_income*tax_rate"
      ],
      "execution_count": 0,
      "outputs": []
    },
    {
      "cell_type": "code",
      "metadata": {
        "id": "BwMbuIwoacz7",
        "colab_type": "code",
        "colab": {}
      },
      "source": [
        "# Show my taxes!\n",
        "my_taxes"
      ],
      "execution_count": 0,
      "outputs": []
    },
    {
      "cell_type": "markdown",
      "metadata": {
        "id": "SQ1_uIZVac0A",
        "colab_type": "text"
      },
      "source": [
        "So what have we learned? We learned some of the basics of numbers in Python. We also learned how to do arithmetic and use Python as a basic calculator. We then wrapped it up with learning about Variable Assignment in Python.\n",
        "\n",
        "Up next we'll learn about Strings!"
      ]
    },
    {
      "cell_type": "markdown",
      "metadata": {
        "id": "5mfUDWFtdREU",
        "colab_type": "text"
      },
      "source": [
        ""
      ]
    }
  ]
}