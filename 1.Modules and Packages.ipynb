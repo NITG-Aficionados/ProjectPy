{
  "nbformat": 4,
  "nbformat_minor": 0,
  "metadata": {
    "kernelspec": {
      "display_name": "Python 3",
      "language": "python",
      "name": "python3"
    },
    "language_info": {
      "codemirror_mode": {
        "name": "ipython",
        "version": 3
      },
      "file_extension": ".py",
      "mimetype": "text/x-python",
      "name": "python",
      "nbconvert_exporter": "python",
      "pygments_lexer": "ipython3",
      "version": "3.5.1"
    },
    "colab": {
      "name": "1.Modules and Packages.ipynb",
      "version": "0.3.2",
      "provenance": []
    }
  },
  "cells": [
    {
      "cell_type": "markdown",
      "metadata": {
        "id": "-lOlL-zEgqZs",
        "colab_type": "text"
      },
      "source": [
        "# Modules and Packages\n",
        "\n",
        "There's no code here because it didn't really make sense for the section.\n",
        "Here we'll see how we can include packages (Similar to #include<stdio.h> we do in C for those familiar with C)\n",
        "\n",
        "Here is the best source the official docs!\n",
        "https://docs.python.org/2/tutorial/modules.html#packages\n",
        "\n",
        "But I really like the info here: https://python4astronomers.github.io/installation/packages.html\n",
        "\n",
        "Here's some extra info to help:"
      ]
    },
    {
      "cell_type": "markdown",
      "metadata": {
        "id": "vf_IKOX4gqZv",
        "colab_type": "text"
      },
      "source": [
        "Modules in Python are simply Python files with the .py extension, which implement a set of functions. Modules are imported from other modules using the import command.\n",
        "\n",
        "To import a module, we use the import command. Check out the full list of built-in modules in the Python standard library here.\n",
        "\n",
        "The first time a module is loaded into a running Python script, it is initialized by executing the code in the module once. If another module in your code imports the same module again, it will not be loaded twice but once only - so local variables inside the module act as a \"singleton\" - they are initialized only once.\n",
        "\n",
        "If we want to import module math,  we simply import the module:"
      ]
    },
    {
      "cell_type": "code",
      "metadata": {
        "id": "z5IawiUpgqZx",
        "colab_type": "code",
        "colab": {}
      },
      "source": [
        "# import the library\n",
        "import math"
      ],
      "execution_count": 0,
      "outputs": []
    },
    {
      "cell_type": "code",
      "metadata": {
        "id": "Q6eQE_ZugqZ1",
        "colab_type": "code",
        "colab": {}
      },
      "source": [
        "# use it (ceiling rounding)\n",
        "math.ceil(2.4)"
      ],
      "execution_count": 0,
      "outputs": []
    },
    {
      "cell_type": "markdown",
      "metadata": {
        "id": "r2mbXIwkgqZ7",
        "colab_type": "text"
      },
      "source": [
        "## Exploring built-in modules\n",
        "Two very important functions come in handy when exploring modules in Python - the dir and help functions.\n",
        "\n",
        "We can look for which functions are implemented in each module by using the dir function:\n",
        "\n"
      ]
    },
    {
      "cell_type": "code",
      "metadata": {
        "id": "S1aSsjs7gqZ9",
        "colab_type": "code",
        "colab": {}
      },
      "source": [
        "print(dir(math))"
      ],
      "execution_count": 0,
      "outputs": []
    },
    {
      "cell_type": "markdown",
      "metadata": {
        "id": "P99HwO_wgqaC",
        "colab_type": "text"
      },
      "source": [
        "When we find the function in the module we want to use, we can read about it more using the help function, inside the Python interpreter:\n",
        "\n"
      ]
    },
    {
      "cell_type": "code",
      "metadata": {
        "id": "ManfAvrGgqaD",
        "colab_type": "code",
        "colab": {}
      },
      "source": [
        "help(math.ceil)"
      ],
      "execution_count": 0,
      "outputs": []
    },
    {
      "cell_type": "markdown",
      "metadata": {
        "id": "OUJr-3i2hkEB",
        "colab_type": "text"
      },
      "source": [
        "# **Bonus**\n",
        "This is bonus section. You can read it if you're intersted."
      ]
    },
    {
      "cell_type": "markdown",
      "metadata": {
        "id": "TIIA1sxfgqaH",
        "colab_type": "text"
      },
      "source": [
        "## Writing modules\n",
        "Writing Python modules is very simple. To create a module of your own, simply create a new .py file with the module name, and then import it using the Python file name (without the .py extension) using the import command.\n",
        "\n",
        "## Writing packages\n",
        "Packages are name-spaces which contain multiple packages and modules themselves. They are simply directories, but with a twist.\n",
        "\n",
        "Each package in Python is a directory which MUST contain a special file called **\\__init\\__.py**. This file can be empty, and it indicates that the directory it contains is a Python package, so it can be imported the same way a module can be imported.\n",
        "\n",
        "If we create a directory called foo, which marks the package name, we can then create a module inside that package called bar. We also must not forget to add the **\\__init\\__.py** file inside the foo directory.\n",
        "\n",
        "To use the module bar, we can import it in two ways:"
      ]
    },
    {
      "cell_type": "code",
      "metadata": {
        "id": "Ue9wk2eLgqaI",
        "colab_type": "code",
        "colab": {}
      },
      "source": [
        "# Just an example, this won't work\n",
        "import foo.bar"
      ],
      "execution_count": 0,
      "outputs": []
    },
    {
      "cell_type": "code",
      "metadata": {
        "id": "NOfwaBfugqaM",
        "colab_type": "code",
        "colab": {}
      },
      "source": [
        "# OR could do it this way\n",
        "from foo import bar"
      ],
      "execution_count": 0,
      "outputs": []
    },
    {
      "cell_type": "markdown",
      "metadata": {
        "id": "Kz40nLaigqaR",
        "colab_type": "text"
      },
      "source": [
        "In the first method, we must use the foo prefix whenever we access the module bar. In the second method, we don't, because we import the module to our module's name-space.\n",
        "\n",
        "The **\\__init\\__.py** file can also decide which modules the package exports as the API, while keeping other modules internal, by overriding the **\\__all\\__** variable, like so:"
      ]
    },
    {
      "cell_type": "code",
      "metadata": {
        "id": "_le1tCCegqaT",
        "colab_type": "code",
        "colab": {}
      },
      "source": [
        "__init__.py:\n",
        "\n",
        "__all__ = [\"bar\"]"
      ],
      "execution_count": 0,
      "outputs": []
    }
  ]
}