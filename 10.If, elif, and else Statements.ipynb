{
  "nbformat": 4,
  "nbformat_minor": 0,
  "metadata": {
    "kernelspec": {
      "display_name": "Python 2",
      "language": "python",
      "name": "python2"
    },
    "language_info": {
      "codemirror_mode": {
        "name": "ipython",
        "version": 2
      },
      "file_extension": ".py",
      "mimetype": "text/x-python",
      "name": "python",
      "nbconvert_exporter": "python",
      "pygments_lexer": "ipython2",
      "version": "2.7.10"
    },
    "colab": {
      "name": "10.If, elif, and else Statements.ipynb",
      "version": "0.3.2",
      "provenance": []
    }
  },
  "cells": [
    {
      "cell_type": "markdown",
      "metadata": {
        "id": "g33FgESQrHud",
        "colab_type": "text"
      },
      "source": [
        "#if,elif,else Statements\n",
        "\n",
        "if Statements in Python allows us to tell the computer to perform alternative actions based on a certain set of results.\n",
        "\n",
        "Verbally, we can imagine we are telling the computer:\n",
        "\n",
        "\"Hey if this case happens, perform some action\"\n",
        "\n",
        "We can then expand the idea further with elif and else statements, which allow us to tell the computer:\n",
        "\n",
        "\"Hey if this case happens, perform some action. Else if another case happens, perform some other action. Else-- none of the above cases happened, perform this action\"\n",
        "\n",
        "Let's go ahead and look at the syntax format for if statements to get a better idea of this:\n",
        "\n",
        "    if case1:\n",
        "        perform action1\n",
        "    elif case2:\n",
        "        perform action2\n",
        "    else: \n",
        "        perform action 3"
      ]
    },
    {
      "cell_type": "markdown",
      "metadata": {
        "id": "NF72KqG_rHug",
        "colab_type": "text"
      },
      "source": [
        "## First Example\n",
        "\n",
        "Let's see a quick example of this:"
      ]
    },
    {
      "cell_type": "code",
      "metadata": {
        "id": "nAOXLokWrHui",
        "colab_type": "code",
        "colab": {}
      },
      "source": [
        "if True:\n",
        "    print 'It was true!'"
      ],
      "execution_count": 0,
      "outputs": []
    },
    {
      "cell_type": "markdown",
      "metadata": {
        "id": "K3Q8AErLrHuo",
        "colab_type": "text"
      },
      "source": [
        "Let's add in some else logic:"
      ]
    },
    {
      "cell_type": "code",
      "metadata": {
        "id": "JOgvmveurHup",
        "colab_type": "code",
        "colab": {}
      },
      "source": [
        "x = False\n",
        "\n",
        "if x:\n",
        "    print 'x was True!'\n",
        "else:\n",
        "    print 'I will be printed in any case where x is not true'"
      ],
      "execution_count": 0,
      "outputs": []
    },
    {
      "cell_type": "markdown",
      "metadata": {
        "id": "siqNKFd4rHut",
        "colab_type": "text"
      },
      "source": [
        "### Multiple Branches\n",
        "\n",
        "Let's get a fuller picture of how far if, elif, and else can take us!\n",
        "\n",
        "We write this out in a nested structure. Take note of how the if,elif,and else line up in the code. This can help you see what if is related to what elif or else statements.\n",
        "\n",
        "We'll reintroduce a comparison syntax for Python."
      ]
    },
    {
      "cell_type": "code",
      "metadata": {
        "id": "ymAhLkQRrHuv",
        "colab_type": "code",
        "colab": {}
      },
      "source": [
        "loc = 'Bank'\n",
        "\n",
        "if loc == 'Auto Shop':\n",
        "    print 'Welcome to the Auto Shop!'\n",
        "elif loc == 'Bank':\n",
        "    print 'Welcome to the bank!'\n",
        "else:\n",
        "    print \"Where are you?\""
      ],
      "execution_count": 0,
      "outputs": []
    },
    {
      "cell_type": "markdown",
      "metadata": {
        "id": "cTWCWEZhrHuz",
        "colab_type": "text"
      },
      "source": [
        "Note how the nested if statements are each checked until a True boolean causes the nested code below it to run. You should also note that you can put in as many elif statements as you want before you close off with an else.\n",
        "\n",
        "Let's create two more simple examples for the if,elif, and else statements:"
      ]
    },
    {
      "cell_type": "code",
      "metadata": {
        "id": "kVUN3TBRrHu0",
        "colab_type": "code",
        "colab": {}
      },
      "source": [
        "person = 'Sammy'\n",
        "\n",
        "if person == 'Sammy':\n",
        "    print 'Welcome Sammy!'\n",
        "else:\n",
        "    print \"Welcome, what's your name?\" "
      ],
      "execution_count": 0,
      "outputs": []
    },
    {
      "cell_type": "code",
      "metadata": {
        "id": "lO3ru-orrHu4",
        "colab_type": "code",
        "colab": {}
      },
      "source": [
        "person = 'George'\n",
        "\n",
        "if person == 'Sammy':\n",
        "    print 'Welcome Sammy!'\n",
        "elif person =='George':\n",
        "    print \"Welcome George!\"\n",
        "else:\n",
        "    print \"Welcome, what's your name?\" "
      ],
      "execution_count": 0,
      "outputs": []
    },
    {
      "cell_type": "markdown",
      "metadata": {
        "id": "0OB16eNUrHu8",
        "colab_type": "text"
      },
      "source": [
        "##Indentation\n",
        "\n",
        "It is important to keep a good understanding of how indentation works in Python to maintain the structure and order of your code. We will touch on this topic again when we start building out functions!"
      ]
    },
    {
      "cell_type": "markdown",
      "metadata": {
        "id": "sfXD7HifrL2S",
        "colab_type": "text"
      },
      "source": [
        "## **Challenge Problem** [Hackerrank : Python If-Else](https://www.hackerrank.com/challenges/py-if-else/problem)  \n",
        "[Solution](https://www.hackerrank.com/challenges/py-if-else/editorial)"
      ]
    },
    {
      "cell_type": "code",
      "metadata": {
        "id": "CgwRtka9rdTV",
        "colab_type": "code",
        "colab": {}
      },
      "source": [
        ""
      ],
      "execution_count": 0,
      "outputs": []
    }
  ]
}