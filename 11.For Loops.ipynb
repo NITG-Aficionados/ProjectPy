{
  "nbformat": 4,
  "nbformat_minor": 0,
  "metadata": {
    "kernelspec": {
      "display_name": "Python 3",
      "language": "python",
      "name": "python3"
    },
    "language_info": {
      "codemirror_mode": {
        "name": "ipython",
        "version": 3
      },
      "file_extension": ".py",
      "mimetype": "text/x-python",
      "name": "python",
      "nbconvert_exporter": "python",
      "pygments_lexer": "ipython3",
      "version": "3.5.1"
    },
    "colab": {
      "name": "12.For Loops.ipynb",
      "version": "0.3.2",
      "provenance": []
    }
  },
  "cells": [
    {
      "cell_type": "markdown",
      "metadata": {
        "id": "MPbznIhXrz_s",
        "colab_type": "text"
      },
      "source": [
        "# for Loops\n",
        "\n",
        "A **for** loop acts as an iterator in Python, it goes through items that are in a *sequence* or any other iterable item. Objects that we've learned about that we can iterate over include strings,lists,tuples, and even built in iterables for dictionaries, such as the keys or values.\n",
        "\n",
        "We've already seen the **for** statement a little bit in past lectures but now lets formalize our understanding.\n",
        "\n",
        "Here's the general format for a **for** loop in Python:\n",
        "\n",
        "    for item in object:\n",
        "        statements to do stuff\n",
        "    "
      ]
    },
    {
      "cell_type": "markdown",
      "metadata": {
        "id": "-x51qIbNrz_w",
        "colab_type": "text"
      },
      "source": [
        "The variable name used for the item is completely up to the coder, so use your best judgment for choosing a name that makes sense and you will be able to understand when revisiting your code. This item name can then be referenced inside you loop, for example if you wanted to use if statements to perform checks.\n",
        "\n",
        "Let's go ahead and work through several example of **for** loops using a variety of data object types. we'll start simple and build more complexity later on.\n",
        "\n",
        "##Example 1\n",
        "Iterating through a list."
      ]
    },
    {
      "cell_type": "code",
      "metadata": {
        "id": "N38futi4rz_z",
        "colab_type": "code",
        "colab": {}
      },
      "source": [
        "# We'll learn how to automate this sort of list in the next lecture\n",
        "l = [1,2,3,4,5,6,7,8,9,10]"
      ],
      "execution_count": 0,
      "outputs": []
    },
    {
      "cell_type": "code",
      "metadata": {
        "id": "3zqcZtwNrz_5",
        "colab_type": "code",
        "colab": {}
      },
      "source": [
        "for num in l:\n",
        "    print num"
      ],
      "execution_count": 0,
      "outputs": []
    },
    {
      "cell_type": "markdown",
      "metadata": {
        "id": "I0w_yp4zrz_-",
        "colab_type": "text"
      },
      "source": [
        "Great! Hopefully this makes sense. Now lets add a if statement to check for even numbers. We'll first introduce a new concept here--the modulo.\n",
        "### Modulo\n",
        "The modulo allows us to get the remainder in a division and uses the % symbol. For example:"
      ]
    },
    {
      "cell_type": "code",
      "metadata": {
        "id": "CRv1Uhmrrz__",
        "colab_type": "code",
        "colab": {}
      },
      "source": [
        "17 % 5"
      ],
      "execution_count": 0,
      "outputs": []
    },
    {
      "cell_type": "markdown",
      "metadata": {
        "id": "ENqRkIwmr0AD",
        "colab_type": "text"
      },
      "source": [
        "This makes sense since 17 divided by 5 is 3 remainder 2. Let's see a few more quick examples:"
      ]
    },
    {
      "cell_type": "code",
      "metadata": {
        "id": "JVYMxvcpr0AE",
        "colab_type": "code",
        "colab": {}
      },
      "source": [
        "# 3 Remainder 1\n",
        "10 % 3"
      ],
      "execution_count": 0,
      "outputs": []
    },
    {
      "cell_type": "code",
      "metadata": {
        "id": "bzCquOj-r0AI",
        "colab_type": "code",
        "colab": {}
      },
      "source": [
        "# 2 Remainder 4\n",
        "18 % 7"
      ],
      "execution_count": 0,
      "outputs": []
    },
    {
      "cell_type": "code",
      "metadata": {
        "id": "tBROftSsr0AL",
        "colab_type": "code",
        "colab": {}
      },
      "source": [
        "# 2 no remainder\n",
        "4 % 2"
      ],
      "execution_count": 0,
      "outputs": []
    },
    {
      "cell_type": "markdown",
      "metadata": {
        "id": "hmwNl1tbr0AP",
        "colab_type": "text"
      },
      "source": [
        "Notice that if a number is fully divisible with no remainder, the result of the modulo call is 0. We can use this to test for even numbers, since if a number modulo 2 is equal to 0, that means it is an even number!\n",
        "\n",
        "Back to the **for** loops!\n",
        "\n",
        "##Example 2\n",
        "Let's print only the even numbers from that list!"
      ]
    },
    {
      "cell_type": "code",
      "metadata": {
        "id": "xdbesDgWr0AQ",
        "colab_type": "code",
        "colab": {}
      },
      "source": [
        "for num in l:\n",
        "    if num % 2 == 0:\n",
        "        print num"
      ],
      "execution_count": 0,
      "outputs": []
    },
    {
      "cell_type": "markdown",
      "metadata": {
        "id": "_Gm4Y14Qr0AU",
        "colab_type": "text"
      },
      "source": [
        "We could have also put in else statement in there:"
      ]
    },
    {
      "cell_type": "code",
      "metadata": {
        "id": "_rTbYx-Fr0AV",
        "colab_type": "code",
        "colab": {}
      },
      "source": [
        "for num in l:\n",
        "    if num % 2 == 0:\n",
        "        print num\n",
        "    else:\n",
        "        print 'Odd number'"
      ],
      "execution_count": 0,
      "outputs": []
    },
    {
      "cell_type": "markdown",
      "metadata": {
        "id": "LBn9hJtSr0Aa",
        "colab_type": "text"
      },
      "source": [
        "## Example 3\n",
        "Another common idea during a **for** loop is keeping some sort of running tally during the multiple loops. For example, lets create a for loop that sums up the list:"
      ]
    },
    {
      "cell_type": "code",
      "metadata": {
        "id": "r1o0wtj3r0Ac",
        "colab_type": "code",
        "colab": {}
      },
      "source": [
        "# Start sum at zero\n",
        "list_sum = 0 \n",
        "\n",
        "for num in l:\n",
        "    list_sum = list_sum + num\n",
        "\n",
        "print list_sum"
      ],
      "execution_count": 0,
      "outputs": []
    },
    {
      "cell_type": "markdown",
      "metadata": {
        "id": "VrbruYjEr0Ai",
        "colab_type": "text"
      },
      "source": [
        "Great! Read over the above cell and make sure you understand fully what is going on. Also we could have implemented a += to to the addition towards the sum. For example:"
      ]
    },
    {
      "cell_type": "code",
      "metadata": {
        "id": "kP6Ypxu1r0Ak",
        "colab_type": "code",
        "colab": {}
      },
      "source": [
        "# Start sum at zero\n",
        "list_sum = 0 \n",
        "\n",
        "for num in l:\n",
        "    list_sum += num\n",
        "\n",
        "print list_sum"
      ],
      "execution_count": 0,
      "outputs": []
    },
    {
      "cell_type": "markdown",
      "metadata": {
        "id": "Zyx8b6rNr0Aq",
        "colab_type": "text"
      },
      "source": [
        "## Example 4\n",
        "We've used for loops with lists, how about with strings? Remember strings are a sequence so when we iterate through them we will be accessing each item in that string."
      ]
    },
    {
      "cell_type": "code",
      "metadata": {
        "id": "kjRwwAbmr0As",
        "colab_type": "code",
        "colab": {}
      },
      "source": [
        "for letter in 'This is a string.':\n",
        "    print letter"
      ],
      "execution_count": 0,
      "outputs": []
    },
    {
      "cell_type": "markdown",
      "metadata": {
        "id": "P2DXIWFbr0Ax",
        "colab_type": "text"
      },
      "source": [
        "##Example 5\n",
        "Let's now look at how a for loop can be used with a tuple:"
      ]
    },
    {
      "cell_type": "code",
      "metadata": {
        "id": "PGu8gQRZr0Ay",
        "colab_type": "code",
        "colab": {}
      },
      "source": [
        "tup = (1,2,3,4,5)\n",
        "\n",
        "for t in tup:\n",
        "    print t"
      ],
      "execution_count": 0,
      "outputs": []
    },
    {
      "cell_type": "markdown",
      "metadata": {
        "id": "AmTw-H0Yr0A3",
        "colab_type": "text"
      },
      "source": [
        "## Example 6\n",
        "Tuples have a special quality when it comes to **for** loops. If you are iterating through a sequence that contains tuples, the item can actually be the tuple itself, this is an example of *tuple unpacking*. During the **for** loop we will be unpacking the tuple inside of a sequence and we can access the individual items inside that tuple!"
      ]
    },
    {
      "cell_type": "code",
      "metadata": {
        "id": "jpLLvngcr0A5",
        "colab_type": "code",
        "colab": {}
      },
      "source": [
        "l = [(2,4),(6,8),(10,12)]"
      ],
      "execution_count": 0,
      "outputs": []
    },
    {
      "cell_type": "code",
      "metadata": {
        "id": "lT5hMjWFr0A9",
        "colab_type": "code",
        "colab": {}
      },
      "source": [
        "for tup in l:\n",
        "    print tup"
      ],
      "execution_count": 0,
      "outputs": []
    },
    {
      "cell_type": "code",
      "metadata": {
        "id": "Ud8Y4e_qr0BA",
        "colab_type": "code",
        "colab": {}
      },
      "source": [
        "# Now with unpacking!\n",
        "for (t1,t2) in l:\n",
        "    print t1"
      ],
      "execution_count": 0,
      "outputs": []
    },
    {
      "cell_type": "markdown",
      "metadata": {
        "id": "imaOFFyjr0BD",
        "colab_type": "text"
      },
      "source": [
        "Cool! With tuples in a sequence we can access the items inside of them through unpacking! The reason this is important is because many object will deliver their iterables through tuples. Let's start exploring iterating through Dictionaries to explore this further!"
      ]
    },
    {
      "cell_type": "markdown",
      "metadata": {
        "id": "G9aCzsNBr0BE",
        "colab_type": "text"
      },
      "source": [
        "##Example 7"
      ]
    },
    {
      "cell_type": "code",
      "metadata": {
        "id": "Kn1r9POkr0BG",
        "colab_type": "code",
        "colab": {}
      },
      "source": [
        "d = {'k1':1,'k2':2,'k3':3}"
      ],
      "execution_count": 0,
      "outputs": []
    },
    {
      "cell_type": "code",
      "metadata": {
        "id": "eATJVBQKr0BJ",
        "colab_type": "code",
        "colab": {}
      },
      "source": [
        "for item in d:\n",
        "    print item"
      ],
      "execution_count": 0,
      "outputs": []
    },
    {
      "cell_type": "markdown",
      "metadata": {
        "id": "TrqUf_0Or0BU",
        "colab_type": "text"
      },
      "source": [
        "Notice how this produces only the keys. So how can we get the values? Or both the keys and the values? \n",
        "\n",
        "Here is where we are going to have a Python 3 Alert!\n",
        "### <font color='red'>Python 3 Alert!</font>\n",
        "\n",
        "### Python 2: Use .iteritems() to iterate through\n",
        "\n",
        "In Python 2 you should use .iteritems() to iterate through the keys and values of a dictionary. This basically creates a generator (we will get into generators later on in the course) that will generate the keys and values of your dictionary. Let's see it in action:"
      ]
    },
    {
      "cell_type": "code",
      "metadata": {
        "id": "_DgkVJcDr0BW",
        "colab_type": "code",
        "colab": {}
      },
      "source": [
        "# Creates a generator\n",
        "d.iteritems()"
      ],
      "execution_count": 0,
      "outputs": []
    },
    {
      "cell_type": "markdown",
      "metadata": {
        "id": "RITM3_Qpr0Bb",
        "colab_type": "text"
      },
      "source": [
        "Calling the items() method returns a list of tuples. Now we can iterate through them just as we did in the previous examples."
      ]
    },
    {
      "cell_type": "code",
      "metadata": {
        "id": "6GfYQDMFr0Bc",
        "colab_type": "code",
        "colab": {}
      },
      "source": [
        "# Create a generator\n",
        "for k,v in d.iteritems():\n",
        "    print k\n",
        "    print v  "
      ],
      "execution_count": 0,
      "outputs": []
    },
    {
      "cell_type": "markdown",
      "metadata": {
        "id": "U7fcDyC5r0Bf",
        "colab_type": "text"
      },
      "source": [
        "### Python 3: items()\n",
        "In Python 3 you should use .items() to iterate through the keys and values of a dictionary. For example:"
      ]
    },
    {
      "cell_type": "code",
      "metadata": {
        "id": "kPZTumesr0Bh",
        "colab_type": "code",
        "colab": {}
      },
      "source": [
        "# For Python 3\n",
        "for k,v in d.items():\n",
        "    print(k)\n",
        "    print(v)  "
      ],
      "execution_count": 0,
      "outputs": []
    },
    {
      "cell_type": "markdown",
      "metadata": {
        "id": "tP_3XOa2r0Bl",
        "colab_type": "text"
      },
      "source": [
        "You might be wondering why this worked in Python 2. This is because of the introduction of generators to Python during its earlier years. (We will go over generators and what they are in a future section, but the basic notion is that generators don't store data in memory, but instead just yield it to you as it goes through an iterable item).\n",
        "\n",
        "Originally, Python items() built a real list of tuples and returned that. That could potentially take a lot of extra memory.\n",
        "\n",
        "Then, generators were introduced to the language in general, and that method was reimplemented as an iterator-generator method named iteritems(). The original remains for backwards compatibility.\n",
        "\n",
        "One of Python 3’s changes is that  items() now return iterators, and a list is never fully built. The iteritems() method is also gone, since items() now works like iteritems() in Python 2.\n"
      ]
    },
    {
      "cell_type": "markdown",
      "metadata": {
        "id": "-ohDJz2Zr4gn",
        "colab_type": "text"
      },
      "source": [
        "## **Challenge Problem** [Hackerrank : Loops](https://www.hackerrank.com/challenges/python-loops/problem)"
      ]
    },
    {
      "cell_type": "markdown",
      "metadata": {
        "id": "QDcAt6SKr0Bp",
        "colab_type": "text"
      },
      "source": [
        "## Conclusion\n",
        "\n",
        "We've learned how to use for loops to iterate through tuples,lists,strings, and dictionaries. It will be an important tool for us, so make sure you know it well and understood the above examples.\n",
        "\n",
        "[More resources](http://www.tutorialspoint.com/python/python_for_loop.htm)"
      ]
    }
  ]
}