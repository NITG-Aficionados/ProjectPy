{
  "nbformat": 4,
  "nbformat_minor": 0,
  "metadata": {
    "kernelspec": {
      "display_name": "Python 2",
      "language": "python",
      "name": "python2"
    },
    "language_info": {
      "codemirror_mode": {
        "name": "ipython",
        "version": 2
      },
      "file_extension": ".py",
      "mimetype": "text/x-python",
      "name": "python",
      "nbconvert_exporter": "python",
      "pygments_lexer": "ipython2",
      "version": "2.7.10"
    },
    "colab": {
      "name": "13.While loops.ipynb",
      "version": "0.3.2",
      "provenance": []
    }
  },
  "cells": [
    {
      "cell_type": "markdown",
      "metadata": {
        "collapsed": true,
        "id": "TvF-JLnZsVKA",
        "colab_type": "text"
      },
      "source": [
        "# while loops\n",
        "\n",
        "The **while** statement in Python is one of most general ways to perform iteration. A **while** statement will repeatedly execute a single statement or group of statements as long as the condition is true. The reason it is called a 'loop' is because the code statements are looped through over and over again until the condition is no longer met.\n",
        "\n",
        "The general format of a while loop is:\n",
        "\n",
        "    while test:\n",
        "        code statement\n",
        "    else:\n",
        "        final code statements\n",
        "\n",
        "Let’s look at a few simple while loops in action. "
      ]
    },
    {
      "cell_type": "code",
      "metadata": {
        "id": "5Jceu2sIsVKE",
        "colab_type": "code",
        "colab": {}
      },
      "source": [
        "x = 0\n",
        "\n",
        "while x < 10:\n",
        "    print 'x is currently: ',x\n",
        "    print ' x is still less than 10, adding 1 to x'\n",
        "    x+=1"
      ],
      "execution_count": 0,
      "outputs": []
    },
    {
      "cell_type": "markdown",
      "metadata": {
        "id": "7tN0I8GosVKK",
        "colab_type": "text"
      },
      "source": [
        "Notice how many times the print statements occurred and how the while loop kept going until the True condition was met, which occurred once x==10. Its important to note that once this occurred the code stopped. Lets see how we could add an else statement:"
      ]
    },
    {
      "cell_type": "code",
      "metadata": {
        "id": "_KdpMuFHsVKM",
        "colab_type": "code",
        "colab": {}
      },
      "source": [
        "x = 0\n",
        "\n",
        "while x < 10:\n",
        "    print 'x is currently: ',x\n",
        "    print ' x is still less than 10, adding 1 to x'\n",
        "    x+=1\n",
        "    \n",
        "else:\n",
        "    print 'All Done!'"
      ],
      "execution_count": 0,
      "outputs": []
    },
    {
      "cell_type": "markdown",
      "metadata": {
        "id": "oKAewerjsVKQ",
        "colab_type": "text"
      },
      "source": [
        "#break, continue, pass\n",
        "\n",
        "We can use break, continue, and pass statements in our loops to add additional functionality for various cases. The three statements are defined by:\n",
        "\n",
        "    break: Breaks out of the current closest enclosing loop.\n",
        "    continue: Goes to the top of the closest enclosing loop.\n",
        "    pass: Does nothing at all.\n",
        "    \n",
        "    \n",
        "Thinking about **break** and **continue** statements, the general format of the while loop looks like this:\n",
        "\n",
        "    while test: \n",
        "        code statement\n",
        "        if test: \n",
        "            break\n",
        "        if test: \n",
        "            continue \n",
        "    else:\n",
        "\n",
        "**break** and **continue** statements can appear anywhere inside the loop’s body,but we will usually put them further nested in conjunction with an **if** statement to perform an action based on some condition.\n",
        "\n",
        "Lets go ahead and look at some examples!"
      ]
    },
    {
      "cell_type": "code",
      "metadata": {
        "id": "sgMW2iMCsVKR",
        "colab_type": "code",
        "colab": {}
      },
      "source": [
        "x = 0\n",
        "\n",
        "while x < 10:\n",
        "    print 'x is currently: ',x\n",
        "    print ' x is still less than 10, adding 1 to x'\n",
        "    x+=1\n",
        "    if x ==3:\n",
        "        print 'x==3'\n",
        "    else:\n",
        "        print 'continuing...'\n",
        "        continue"
      ],
      "execution_count": 0,
      "outputs": []
    },
    {
      "cell_type": "markdown",
      "metadata": {
        "id": "NgAOpug-sVKW",
        "colab_type": "text"
      },
      "source": [
        "Note how we have a printed statement when x==3, and a continue being printed out as we continue through the outer while loop. Let's put in a break once x ==3 and see if the result makes sense:"
      ]
    },
    {
      "cell_type": "code",
      "metadata": {
        "id": "cwV-qShWsVKX",
        "colab_type": "code",
        "colab": {}
      },
      "source": [
        "x = 0\n",
        "\n",
        "while x < 10:\n",
        "    print 'x is currently: ',x\n",
        "    print ' x is still less than 10, adding 1 to x'\n",
        "    x+=1\n",
        "    if x ==3:\n",
        "        print 'Breaking because x==3'\n",
        "        break\n",
        "    else:\n",
        "        print 'continuing...'\n",
        "        continue"
      ],
      "execution_count": 0,
      "outputs": []
    },
    {
      "cell_type": "markdown",
      "metadata": {
        "id": "hHCHEyaCsVKe",
        "colab_type": "text"
      },
      "source": [
        "Note how the other else statement wasn't reached and continuing was never printed!\n",
        "\n",
        "After these brief but simple examples, you should feel comfortable using while statements in you code.\n",
        "\n",
        "**A word of caution however! It is possible to create an infinitely running loop with while statements. For example:**"
      ]
    },
    {
      "cell_type": "code",
      "metadata": {
        "id": "-rIyoiqKsVKf",
        "colab_type": "code",
        "colab": {}
      },
      "source": [
        "# DO NOT RUN THIS CODE!!!! \n",
        "while True:\n",
        "    print 'Uh Oh infinite Loop!'"
      ],
      "execution_count": 0,
      "outputs": []
    },
    {
      "cell_type": "code",
      "metadata": {
        "id": "gKgjzSv7sVKj",
        "colab_type": "code",
        "colab": {}
      },
      "source": [
        ""
      ],
      "execution_count": 0,
      "outputs": []
    }
  ]
}