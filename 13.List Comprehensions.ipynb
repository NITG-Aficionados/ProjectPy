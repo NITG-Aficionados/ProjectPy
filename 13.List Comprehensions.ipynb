{
  "nbformat": 4,
  "nbformat_minor": 0,
  "metadata": {
    "kernelspec": {
      "display_name": "Python 2",
      "language": "python",
      "name": "python2"
    },
    "language_info": {
      "codemirror_mode": {
        "name": "ipython",
        "version": 2
      },
      "file_extension": ".py",
      "mimetype": "text/x-python",
      "name": "python",
      "nbconvert_exporter": "python",
      "pygments_lexer": "ipython2",
      "version": "2.7.10"
    },
    "colab": {
      "name": "14.List Comprehensions.ipynb",
      "version": "0.3.2",
      "provenance": []
    }
  },
  "cells": [
    {
      "cell_type": "markdown",
      "metadata": {
        "collapsed": true,
        "id": "KJg7FsO0so6D",
        "colab_type": "text"
      },
      "source": [
        "#Comprehensions\n",
        "\n",
        "In addition to sequence operations and list methods, Python includes a more advanced operation called a list comprehension.\n",
        "\n",
        "List comprehensions allow us to build out lists using a different notation. You can think of it as essentially a one line for loop built inside of brackets. For a simple example:\n",
        "##Example 1"
      ]
    },
    {
      "cell_type": "code",
      "metadata": {
        "id": "I1JR-ZRTso6G",
        "colab_type": "code",
        "colab": {}
      },
      "source": [
        "# Grab every letter in string\n",
        "lst = [x for x in 'word']"
      ],
      "execution_count": 0,
      "outputs": []
    },
    {
      "cell_type": "code",
      "metadata": {
        "id": "EB7etP6Aso6P",
        "colab_type": "code",
        "colab": {}
      },
      "source": [
        "# Check\n",
        "lst"
      ],
      "execution_count": 0,
      "outputs": []
    },
    {
      "cell_type": "markdown",
      "metadata": {
        "id": "8ncXLxsQso6X",
        "colab_type": "text"
      },
      "source": [
        "This is the basic idea of a list comprehension. If you're familiar with mathematical notation this format should feel familiar for example: x^2 : x in { 0,1,2...10} \n",
        "\n",
        "Lets see a few more example of list comprehensions in Python:\n",
        "##Example 2"
      ]
    },
    {
      "cell_type": "code",
      "metadata": {
        "id": "P10NGRyhso6a",
        "colab_type": "code",
        "colab": {}
      },
      "source": [
        "# Square numbers in range and turn into list\n",
        "lst = [x**2 for x in range(0,11)]"
      ],
      "execution_count": 0,
      "outputs": []
    },
    {
      "cell_type": "code",
      "metadata": {
        "id": "-y2Qc3osso6h",
        "colab_type": "code",
        "colab": {}
      },
      "source": [
        "lst"
      ],
      "execution_count": 0,
      "outputs": []
    },
    {
      "cell_type": "markdown",
      "metadata": {
        "id": "X-VLT-G9so6l",
        "colab_type": "text"
      },
      "source": [
        "##Example 3\n",
        "Lets see how to add in if statements:"
      ]
    },
    {
      "cell_type": "code",
      "metadata": {
        "id": "UTo08eGzso6m",
        "colab_type": "code",
        "colab": {}
      },
      "source": [
        "# Check for even numbers in a range\n",
        "lst = [x for x in range(11) if x % 2 == 0]"
      ],
      "execution_count": 0,
      "outputs": []
    },
    {
      "cell_type": "code",
      "metadata": {
        "id": "KYu0ZngPso6s",
        "colab_type": "code",
        "colab": {}
      },
      "source": [
        "lst"
      ],
      "execution_count": 0,
      "outputs": []
    },
    {
      "cell_type": "markdown",
      "metadata": {
        "id": "u63PzHUdso60",
        "colab_type": "text"
      },
      "source": [
        "##Example 4\n",
        "Can also do more complicated arithmetic:"
      ]
    },
    {
      "cell_type": "code",
      "metadata": {
        "id": "mzEyvmmTso61",
        "colab_type": "code",
        "colab": {}
      },
      "source": [
        "# Convert Celsius to Fahrenheit\n",
        "celsius = [0,10,20.1,34.5]\n",
        "\n",
        "fahrenheit = [ ((float(9)/5)*temp + 32) for temp in Celsius ]\n",
        "\n",
        "fahrenheit"
      ],
      "execution_count": 0,
      "outputs": []
    },
    {
      "cell_type": "markdown",
      "metadata": {
        "id": "ptNXCNYyso65",
        "colab_type": "text"
      },
      "source": [
        "##Example 5\n",
        "We can also perform nested list comprehensions, for example:"
      ]
    },
    {
      "cell_type": "code",
      "metadata": {
        "id": "IjrodR7-so68",
        "colab_type": "code",
        "colab": {}
      },
      "source": [
        "lst = [ x**2 for x in [x**2 for x in range(11)]]\n",
        "lst"
      ],
      "execution_count": 0,
      "outputs": []
    },
    {
      "cell_type": "markdown",
      "metadata": {
        "id": "Y3dYc_eBsvvU",
        "colab_type": "text"
      },
      "source": [
        "## **Challenge Problem**  [Hackerrank : List Comprehensions](https://www.hackerrank.com/challenges/list-comprehensions/problem)  \n",
        "[Solution](https://www.hackerrank.com/challenges/list-comprehensions/editorial)"
      ]
    },
    {
      "cell_type": "markdown",
      "metadata": {
        "id": "-E1IwVL0so7D",
        "colab_type": "text"
      },
      "source": [
        "Later on in the course we will learn about generator comprehensions. After this lecture you should feel comfortable reading and writing basic list comprehensions."
      ]
    }
  ]
}