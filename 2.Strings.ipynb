{
  "nbformat": 4,
  "nbformat_minor": 0,
  "metadata": {
    "kernelspec": {
      "display_name": "Python 2",
      "language": "python",
      "name": "python2"
    },
    "language_info": {
      "codemirror_mode": {
        "name": "ipython",
        "version": 2
      },
      "file_extension": ".py",
      "mimetype": "text/x-python",
      "name": "python",
      "nbconvert_exporter": "python",
      "pygments_lexer": "ipython2",
      "version": "2.7.11"
    },
    "colab": {
      "name": "2.Strings.ipynb",
      "version": "0.3.2",
      "provenance": []
    }
  },
  "cells": [
    {
      "cell_type": "markdown",
      "metadata": {
        "id": "n1s-wIpDjBer",
        "colab_type": "text"
      },
      "source": [
        "#Strings"
      ]
    },
    {
      "cell_type": "markdown",
      "metadata": {
        "id": "NAWMZWh6jBex",
        "colab_type": "text"
      },
      "source": [
        "Strings are used in Python to record text information, such as name. Strings in Python are actually a *sequence*, which basically means Python keeps track of every element in the string as a sequence. For example, Python understands the string \"hello' to be a sequence of letters in a specific order. This means we will be able to use indexing to grab particular letters (like the first letter, or the last letter).\n",
        "\n",
        "This idea of a sequence is an important one in Python and we will touch upon it later on in the future.\n",
        "\n",
        "In this lecture we'll learn about the following:\n",
        "\n",
        "    1.) Creating Strings\n",
        "    2.) Printing Strings\n",
        "    3.) Differences in Printing in Python 2 vs 3\n",
        "    4.) String Indexing and Slicing\n",
        "    5.) String Properties\n",
        "    6.) String Methods\n",
        "    7.) Print Formatting"
      ]
    },
    {
      "cell_type": "markdown",
      "metadata": {
        "id": "sqzPpq8jjBez",
        "colab_type": "text"
      },
      "source": [
        "## Creating a String\n",
        "To create a string in Python you need to use either single quotes or double quotes. For example:"
      ]
    },
    {
      "cell_type": "code",
      "metadata": {
        "id": "MKra5rQ2jBe0",
        "colab_type": "code",
        "colab": {}
      },
      "source": [
        "# Single word\n",
        "'hello'"
      ],
      "execution_count": 0,
      "outputs": []
    },
    {
      "cell_type": "code",
      "metadata": {
        "id": "LAMrTT5fjBe6",
        "colab_type": "code",
        "colab": {}
      },
      "source": [
        "# Entire phrase \n",
        "'This is also a string'"
      ],
      "execution_count": 0,
      "outputs": []
    },
    {
      "cell_type": "code",
      "metadata": {
        "id": "cftmB9CFjBfA",
        "colab_type": "code",
        "colab": {}
      },
      "source": [
        "# We can also use double quote\n",
        "\"String built with double quotes\""
      ],
      "execution_count": 0,
      "outputs": []
    },
    {
      "cell_type": "code",
      "metadata": {
        "id": "bEWpdt_ijBfF",
        "colab_type": "code",
        "colab": {}
      },
      "source": [
        "# Be careful with quotes!\n",
        "' I'm using single quotes, but will create an error'"
      ],
      "execution_count": 0,
      "outputs": []
    },
    {
      "cell_type": "markdown",
      "metadata": {
        "id": "5EbE7LadjBfJ",
        "colab_type": "text"
      },
      "source": [
        "The reason for the error above is because the single quote in I'm stopped the string. You can use combinations of double and single quotes to get the complete statement."
      ]
    },
    {
      "cell_type": "code",
      "metadata": {
        "id": "SknjNz42jBfK",
        "colab_type": "code",
        "colab": {}
      },
      "source": [
        "\"Now I'm ready to use the single quotes inside a string!\""
      ],
      "execution_count": 0,
      "outputs": []
    },
    {
      "cell_type": "markdown",
      "metadata": {
        "id": "ZcNbeNtIjBfO",
        "colab_type": "text"
      },
      "source": [
        "Now let's learn about printing strings!"
      ]
    },
    {
      "cell_type": "markdown",
      "metadata": {
        "id": "jBM5aOC6jBfQ",
        "colab_type": "text"
      },
      "source": [
        "## Printing a String\n",
        "\n",
        "Using Jupyter notebook with just a string in a cell will automatically output strings, but the correct way to display strings in your output is by using a print function."
      ]
    },
    {
      "cell_type": "code",
      "metadata": {
        "id": "d_i5JE93jBfT",
        "colab_type": "code",
        "colab": {}
      },
      "source": [
        "# We can simply declare a string\n",
        "'Hello World'"
      ],
      "execution_count": 0,
      "outputs": []
    },
    {
      "cell_type": "code",
      "metadata": {
        "id": "lx-ZQD37jBfY",
        "colab_type": "code",
        "colab": {}
      },
      "source": [
        "# note that we can't output multiple strings this way\n",
        "'Hello World 1'\n",
        "'Hello World 2'"
      ],
      "execution_count": 0,
      "outputs": []
    },
    {
      "cell_type": "markdown",
      "metadata": {
        "id": "NU1EUUUdjBfd",
        "colab_type": "text"
      },
      "source": [
        "We can use a print statement to print a string."
      ]
    },
    {
      "cell_type": "code",
      "metadata": {
        "id": "U0DSEo99jBff",
        "colab_type": "code",
        "colab": {}
      },
      "source": [
        "print 'Hello World 1'\n",
        "print 'Hello World 2'\n",
        "print 'Use \\n to print a new line'\n",
        "print '\\n'\n",
        "print 'See what I mean?'"
      ],
      "execution_count": 0,
      "outputs": []
    },
    {
      "cell_type": "markdown",
      "metadata": {
        "collapsed": true,
        "id": "jz4RpKOFjBfm",
        "colab_type": "text"
      },
      "source": [
        "### <font color='red'>Python 3 Alert!</font>"
      ]
    },
    {
      "cell_type": "markdown",
      "metadata": {
        "id": "byakncpvjBfn",
        "colab_type": "text"
      },
      "source": [
        "Something to note. In Python 3, print is a function, not a statement. So you would print statements like this:\n",
        "print('Hello World')\n",
        "\n",
        "If you want to use this functionality in Python2, you can import form the __future__ module. \n",
        "\n",
        "**A word of caution, after importing this you won't be able to choose the print statement method anymore. So pick whichever one you prefer depending on your Python installation and continue on with it.**"
      ]
    },
    {
      "cell_type": "code",
      "metadata": {
        "id": "hkxY7k9xjBfo",
        "colab_type": "code",
        "colab": {}
      },
      "source": [
        "# To use print function from Python 3 in Python 2\n",
        "from __future__ import print_function\n",
        "\n",
        "print('Hello World')"
      ],
      "execution_count": 0,
      "outputs": []
    },
    {
      "cell_type": "markdown",
      "metadata": {
        "id": "3Uairt8RjBfs",
        "colab_type": "text"
      },
      "source": [
        "## String Basics"
      ]
    },
    {
      "cell_type": "markdown",
      "metadata": {
        "id": "gaRZvxy0jBft",
        "colab_type": "text"
      },
      "source": [
        "We can also use a function called len() to check the length of a string!"
      ]
    },
    {
      "cell_type": "code",
      "metadata": {
        "id": "HjTz5iL7jBfu",
        "colab_type": "code",
        "colab": {}
      },
      "source": [
        "len('Hello World')"
      ],
      "execution_count": 0,
      "outputs": []
    },
    {
      "cell_type": "markdown",
      "metadata": {
        "id": "4ZvogGrsjBf0",
        "colab_type": "text"
      },
      "source": [
        "## String Indexing\n",
        "We know strings are a sequence, which means Python can use indexes to call parts of the sequence. Let's learn how this works.\n",
        "\n",
        "In Python, we use brackets [] after an object to call its index. We should also note that indexing starts at 0 for Python. Let's create a new object called s and the walk through a few examples of indexing."
      ]
    },
    {
      "cell_type": "code",
      "metadata": {
        "id": "n_4q30cqjBf1",
        "colab_type": "code",
        "colab": {}
      },
      "source": [
        "# Assign s as a string\n",
        "s = 'Hello World'"
      ],
      "execution_count": 0,
      "outputs": []
    },
    {
      "cell_type": "code",
      "metadata": {
        "id": "4OyF5Sy8jBf5",
        "colab_type": "code",
        "colab": {}
      },
      "source": [
        "#Check\n",
        "s"
      ],
      "execution_count": 0,
      "outputs": []
    },
    {
      "cell_type": "code",
      "metadata": {
        "id": "2HWllSvfjBgD",
        "colab_type": "code",
        "colab": {}
      },
      "source": [
        "# Print the object\n",
        "print(s) "
      ],
      "execution_count": 0,
      "outputs": []
    },
    {
      "cell_type": "markdown",
      "metadata": {
        "id": "dSPd9JlwjBgH",
        "colab_type": "text"
      },
      "source": [
        "Let's start indexing!"
      ]
    },
    {
      "cell_type": "code",
      "metadata": {
        "id": "j7xb8YgbjBgI",
        "colab_type": "code",
        "colab": {}
      },
      "source": [
        "# Show first element (in this case a letter)\n",
        "s[0]"
      ],
      "execution_count": 0,
      "outputs": []
    },
    {
      "cell_type": "code",
      "metadata": {
        "id": "IoT712cKjBgL",
        "colab_type": "code",
        "colab": {}
      },
      "source": [
        "s[1]"
      ],
      "execution_count": 0,
      "outputs": []
    },
    {
      "cell_type": "code",
      "metadata": {
        "id": "rRVcLy7AjBgP",
        "colab_type": "code",
        "colab": {}
      },
      "source": [
        "s[2]"
      ],
      "execution_count": 0,
      "outputs": []
    },
    {
      "cell_type": "markdown",
      "metadata": {
        "id": "f9QBeCHjjBgV",
        "colab_type": "text"
      },
      "source": [
        "We can use a : to perform *slicing* which grabs everything up to a designated point. For example:"
      ]
    },
    {
      "cell_type": "code",
      "metadata": {
        "id": "D4c7xQldjBgY",
        "colab_type": "code",
        "colab": {}
      },
      "source": [
        "# Grab everything past the first term all the way to the length of s which is len(s)\n",
        "s[1:]"
      ],
      "execution_count": 0,
      "outputs": []
    },
    {
      "cell_type": "code",
      "metadata": {
        "id": "dALrq9ehjBgg",
        "colab_type": "code",
        "colab": {}
      },
      "source": [
        "# Note that there is no change to the original s\n",
        "s"
      ],
      "execution_count": 0,
      "outputs": []
    },
    {
      "cell_type": "code",
      "metadata": {
        "id": "gmIf9qMljBgm",
        "colab_type": "code",
        "colab": {}
      },
      "source": [
        "# Grab everything UP TO the 3rd index\n",
        "s[:3]"
      ],
      "execution_count": 0,
      "outputs": []
    },
    {
      "cell_type": "markdown",
      "metadata": {
        "id": "r4oR9lzmjBgr",
        "colab_type": "text"
      },
      "source": [
        "Note the above slicing. Here we're telling Python to grab everything from 0 up to 3. It doesn't include the 3rd index. You'll notice this a lot in Python, where statements and are usually in the context of \"up to, but not including\"."
      ]
    },
    {
      "cell_type": "code",
      "metadata": {
        "id": "JENe_AKvjBgv",
        "colab_type": "code",
        "colab": {}
      },
      "source": [
        "#Everything\n",
        "s[:]"
      ],
      "execution_count": 0,
      "outputs": []
    },
    {
      "cell_type": "markdown",
      "metadata": {
        "id": "fQ2HI-KmjBg1",
        "colab_type": "text"
      },
      "source": [
        "We can also use negative indexing to go backwards."
      ]
    },
    {
      "cell_type": "code",
      "metadata": {
        "id": "uQgko-sIjBg4",
        "colab_type": "code",
        "colab": {}
      },
      "source": [
        "# Last letter (one index behind 0 so it loops back around)\n",
        "s[-1]"
      ],
      "execution_count": 0,
      "outputs": []
    },
    {
      "cell_type": "code",
      "metadata": {
        "id": "OL_IsXxhjBg8",
        "colab_type": "code",
        "colab": {}
      },
      "source": [
        "# Grab everything but the last letter\n",
        "s[:-1]"
      ],
      "execution_count": 0,
      "outputs": []
    },
    {
      "cell_type": "markdown",
      "metadata": {
        "collapsed": false,
        "id": "iAPDf0kfjBhB",
        "colab_type": "text"
      },
      "source": [
        "We can also use index and slice notation to grab elements of a sequence by a specified step size (the default is 1). For instance we can use two colons in a row and then a number specifying the frequency to grab elements. For example:"
      ]
    },
    {
      "cell_type": "code",
      "metadata": {
        "id": "xGSO6fXqjBhC",
        "colab_type": "code",
        "colab": {}
      },
      "source": [
        "# Grab everything, but go in steps size of 1\n",
        "s[::1]"
      ],
      "execution_count": 0,
      "outputs": []
    },
    {
      "cell_type": "code",
      "metadata": {
        "id": "d-EYMux-jBhI",
        "colab_type": "code",
        "colab": {}
      },
      "source": [
        "# Grab everything, but go in step sizes of 2\n",
        "s[::2]"
      ],
      "execution_count": 0,
      "outputs": []
    },
    {
      "cell_type": "code",
      "metadata": {
        "id": "hMlN6jMDjBhL",
        "colab_type": "code",
        "colab": {}
      },
      "source": [
        "# We can use this to print a string backwards\n",
        "s[::-1]"
      ],
      "execution_count": 0,
      "outputs": []
    },
    {
      "cell_type": "markdown",
      "metadata": {
        "collapsed": true,
        "id": "1meYo6gnjBhP",
        "colab_type": "text"
      },
      "source": [
        "## String Properties\n",
        "Its important to note that strings have an important property known as immutability. This means that once a string is created, the elements within it can not be changed or replaced. For example:"
      ]
    },
    {
      "cell_type": "code",
      "metadata": {
        "id": "pysZn_7mjBhQ",
        "colab_type": "code",
        "colab": {}
      },
      "source": [
        "s"
      ],
      "execution_count": 0,
      "outputs": []
    },
    {
      "cell_type": "code",
      "metadata": {
        "id": "Za502L41jBhY",
        "colab_type": "code",
        "colab": {}
      },
      "source": [
        "# Let's try to change the first letter to 'x'\n",
        "s[0] = 'x'"
      ],
      "execution_count": 0,
      "outputs": []
    },
    {
      "cell_type": "markdown",
      "metadata": {
        "id": "PsFij5_bjBhc",
        "colab_type": "text"
      },
      "source": [
        "Notice how the error tells us directly what we can't do, change the item assignment!\n",
        "\n",
        "Something we can do is concatenate strings!"
      ]
    },
    {
      "cell_type": "code",
      "metadata": {
        "id": "caldzZbMjBhd",
        "colab_type": "code",
        "colab": {}
      },
      "source": [
        "s"
      ],
      "execution_count": 0,
      "outputs": []
    },
    {
      "cell_type": "code",
      "metadata": {
        "id": "KbYo0JC4jBhg",
        "colab_type": "code",
        "colab": {}
      },
      "source": [
        "# Concatenate strings!\n",
        "s + ' concatenate me!'"
      ],
      "execution_count": 0,
      "outputs": []
    },
    {
      "cell_type": "code",
      "metadata": {
        "id": "U0uiNvuQjBhi",
        "colab_type": "code",
        "colab": {}
      },
      "source": [
        "# We can reassign s completely though!\n",
        "s = s + ' concatenate me!'"
      ],
      "execution_count": 0,
      "outputs": []
    },
    {
      "cell_type": "code",
      "metadata": {
        "id": "tvFBbmVojBhl",
        "colab_type": "code",
        "colab": {}
      },
      "source": [
        "print(s)"
      ],
      "execution_count": 0,
      "outputs": []
    },
    {
      "cell_type": "code",
      "metadata": {
        "id": "1FBpdS2XjBho",
        "colab_type": "code",
        "colab": {}
      },
      "source": [
        "s"
      ],
      "execution_count": 0,
      "outputs": []
    },
    {
      "cell_type": "markdown",
      "metadata": {
        "id": "YhjsdhGhjBht",
        "colab_type": "text"
      },
      "source": [
        "We can use the multiplication symbol to create repetition!"
      ]
    },
    {
      "cell_type": "code",
      "metadata": {
        "id": "TvvE6A1ZjBhu",
        "colab_type": "code",
        "colab": {}
      },
      "source": [
        "letter = 'z'"
      ],
      "execution_count": 0,
      "outputs": []
    },
    {
      "cell_type": "code",
      "metadata": {
        "id": "MW-iYqTDjBhx",
        "colab_type": "code",
        "colab": {}
      },
      "source": [
        "letter*10"
      ],
      "execution_count": 0,
      "outputs": []
    },
    {
      "cell_type": "markdown",
      "metadata": {
        "id": "GfsRo8JIjBh1",
        "colab_type": "text"
      },
      "source": [
        "## Basic Built-in String methods\n",
        "\n",
        "Objects in Python usually have built-in methods. These methods are functions inside the object (we will learn about these in much more depth later) that can perform actions or commands on the object itself.\n",
        "\n",
        "We call methods with a period and then the method name. Methods are in the form:\n",
        "\n",
        "object.method(parameters)\n",
        "\n",
        "Where parameters are extra arguments we can pass into the method. Don't worry if the details don't make 100% sense right now. Later on we will be creating our own objects and functions!\n",
        "\n",
        "Here are some examples of built-in methods in strings:"
      ]
    },
    {
      "cell_type": "code",
      "metadata": {
        "id": "2MgKP31yjBh2",
        "colab_type": "code",
        "colab": {}
      },
      "source": [
        "s"
      ],
      "execution_count": 0,
      "outputs": []
    },
    {
      "cell_type": "code",
      "metadata": {
        "id": "arRP6XlljBh7",
        "colab_type": "code",
        "colab": {}
      },
      "source": [
        "# Upper Case a string\n",
        "s.upper()"
      ],
      "execution_count": 0,
      "outputs": []
    },
    {
      "cell_type": "code",
      "metadata": {
        "id": "FklNd_D7jBiF",
        "colab_type": "code",
        "colab": {}
      },
      "source": [
        "# Lower case\n",
        "s.lower()"
      ],
      "execution_count": 0,
      "outputs": []
    },
    {
      "cell_type": "code",
      "metadata": {
        "id": "_BJL84K0jBiJ",
        "colab_type": "code",
        "colab": {}
      },
      "source": [
        "# Split a string by blank space (this is the default)\n",
        "s.split()"
      ],
      "execution_count": 0,
      "outputs": []
    },
    {
      "cell_type": "code",
      "metadata": {
        "id": "UgnZtk6EjBiV",
        "colab_type": "code",
        "colab": {}
      },
      "source": [
        "# Split by a specific element (doesn't include the element that was split on)\n",
        "s.split('W')"
      ],
      "execution_count": 0,
      "outputs": []
    },
    {
      "cell_type": "markdown",
      "metadata": {
        "id": "E6fJwzfAjBic",
        "colab_type": "text"
      },
      "source": [
        "There are many more methods than the ones covered here. Visit the advanced String section to find out more!"
      ]
    },
    {
      "cell_type": "markdown",
      "metadata": {
        "id": "h3l0_34YjBic",
        "colab_type": "text"
      },
      "source": [
        "## Print Formatting\n",
        "\n",
        "We can use the .format() method to add formatted objects to printed string statements. \n",
        "\n",
        "The easiest way to show this is through an example:"
      ]
    },
    {
      "cell_type": "code",
      "metadata": {
        "id": "si5KfZ2MjBid",
        "colab_type": "code",
        "colab": {}
      },
      "source": [
        "'Insert another string with curly brackets: {}'.format('The inserted string')"
      ],
      "execution_count": 0,
      "outputs": []
    },
    {
      "cell_type": "markdown",
      "metadata": {
        "id": "0NhIpUn5nJJ7",
        "colab_type": "text"
      },
      "source": [
        "## **Challenge Problem** [Hackerrank : String Validators](https://www.hackerrank.com/challenges/string-validators/problem)  \n",
        "[Solution](https://www.hackerrank.com/challenges/string-validators/editorial)"
      ]
    },
    {
      "cell_type": "markdown",
      "metadata": {
        "id": "hw5Lw2mKjBig",
        "colab_type": "text"
      },
      "source": [
        "We will revisit this string formatting topic in later sections when we are building our projects!"
      ]
    },
    {
      "cell_type": "markdown",
      "metadata": {
        "id": "eYUU5geUjBih",
        "colab_type": "text"
      },
      "source": [
        "## Next up: Lists!"
      ]
    }
  ]
}