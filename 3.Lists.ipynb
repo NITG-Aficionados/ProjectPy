{
  "nbformat": 4,
  "nbformat_minor": 0,
  "metadata": {
    "kernelspec": {
      "display_name": "Python 2",
      "language": "python",
      "name": "python2"
    },
    "language_info": {
      "codemirror_mode": {
        "name": "ipython",
        "version": 2
      },
      "file_extension": ".py",
      "mimetype": "text/x-python",
      "name": "python",
      "nbconvert_exporter": "python",
      "pygments_lexer": "ipython2",
      "version": "2.7.11"
    },
    "colab": {
      "name": "3.Lists.ipynb",
      "version": "0.3.2",
      "provenance": []
    }
  },
  "cells": [
    {
      "cell_type": "markdown",
      "metadata": {
        "id": "XDVAFYfMjyQ6",
        "colab_type": "text"
      },
      "source": [
        "# Lists\n",
        "\n",
        "Earlier when discussing strings we introduced the concept of a *sequence* in Python. Lists can be thought of the most general version of a *sequence* in Python. Unlike strings, they are mutable, meaning the elements inside a list can be changed!\n",
        "\n",
        "In this section we will learn about:\n",
        "    \n",
        "    1.) Creating lists\n",
        "    2.) Indexing and Slicing Lists\n",
        "    3.) Basic List Methods\n",
        "    4.) Nesting Lists\n",
        "    5.) Introduction to List Comprehensions\n",
        "\n",
        "Lists are constructed with brackets [] and commas separating every element in the list.\n",
        "\n",
        "Let's go ahead and see how we can construct lists!"
      ]
    },
    {
      "cell_type": "code",
      "metadata": {
        "id": "0ViyCimAjyQ9",
        "colab_type": "code",
        "colab": {}
      },
      "source": [
        "# Assign a list to an variable named my_list\n",
        "my_list = [1,2,3]"
      ],
      "execution_count": 0,
      "outputs": []
    },
    {
      "cell_type": "markdown",
      "metadata": {
        "id": "Q0IvsD8jjyRF",
        "colab_type": "text"
      },
      "source": [
        "We just created a list of integers, but lists can actually hold different object types. For example:"
      ]
    },
    {
      "cell_type": "code",
      "metadata": {
        "id": "H342G0hPjyRI",
        "colab_type": "code",
        "colab": {}
      },
      "source": [
        "my_list = ['A string',23,100.232,'o']"
      ],
      "execution_count": 0,
      "outputs": []
    },
    {
      "cell_type": "markdown",
      "metadata": {
        "id": "sNnlNm3xjyRM",
        "colab_type": "text"
      },
      "source": [
        "Just like strings, the len() function will tell you how many items are in the sequence of the list."
      ]
    },
    {
      "cell_type": "code",
      "metadata": {
        "id": "t2bgm2KfjyRN",
        "colab_type": "code",
        "colab": {}
      },
      "source": [
        "len(my_list)"
      ],
      "execution_count": 0,
      "outputs": []
    },
    {
      "cell_type": "markdown",
      "metadata": {
        "id": "0YcYyT0pjyRW",
        "colab_type": "text"
      },
      "source": [
        "### Indexing and Slicing\n",
        "Indexing and slicing works just like in strings. Let's make a new list to remind ourselves of how this works:"
      ]
    },
    {
      "cell_type": "code",
      "metadata": {
        "id": "8jwX7QHRjyRY",
        "colab_type": "code",
        "colab": {}
      },
      "source": [
        "my_list = ['one','two','three',4,5]"
      ],
      "execution_count": 0,
      "outputs": []
    },
    {
      "cell_type": "code",
      "metadata": {
        "id": "T3-c1La-jyRd",
        "colab_type": "code",
        "colab": {}
      },
      "source": [
        "# Grab element at index 0\n",
        "my_list[0]"
      ],
      "execution_count": 0,
      "outputs": []
    },
    {
      "cell_type": "code",
      "metadata": {
        "id": "Q0WiEL1SjyRh",
        "colab_type": "code",
        "colab": {}
      },
      "source": [
        "# Grab index 1 and everything past it\n",
        "my_list[1:]"
      ],
      "execution_count": 0,
      "outputs": []
    },
    {
      "cell_type": "code",
      "metadata": {
        "id": "sx3RghZ8jyRp",
        "colab_type": "code",
        "colab": {}
      },
      "source": [
        "# Grab everything UP TO index 3\n",
        "my_list[:3]"
      ],
      "execution_count": 0,
      "outputs": []
    },
    {
      "cell_type": "markdown",
      "metadata": {
        "id": "L2YsY6ABjyRt",
        "colab_type": "text"
      },
      "source": [
        "We can also use + to concatenate lists, just like we did for strings."
      ]
    },
    {
      "cell_type": "code",
      "metadata": {
        "id": "ef8H4EafjyRv",
        "colab_type": "code",
        "colab": {}
      },
      "source": [
        "my_list + ['new item']"
      ],
      "execution_count": 0,
      "outputs": []
    },
    {
      "cell_type": "markdown",
      "metadata": {
        "id": "1YhgDhoLjyR1",
        "colab_type": "text"
      },
      "source": [
        "Note: This doesn't actually change the original list!"
      ]
    },
    {
      "cell_type": "code",
      "metadata": {
        "id": "IB5s9fv7jyR3",
        "colab_type": "code",
        "colab": {}
      },
      "source": [
        "my_list"
      ],
      "execution_count": 0,
      "outputs": []
    },
    {
      "cell_type": "markdown",
      "metadata": {
        "id": "CqN8bZMzjyR9",
        "colab_type": "text"
      },
      "source": [
        "You would have to reassign the list to make the change permanent."
      ]
    },
    {
      "cell_type": "code",
      "metadata": {
        "id": "WVYP6o8IjyR-",
        "colab_type": "code",
        "colab": {}
      },
      "source": [
        "# Reassign\n",
        "my_list = my_list + ['add new item permanently']"
      ],
      "execution_count": 0,
      "outputs": []
    },
    {
      "cell_type": "code",
      "metadata": {
        "id": "GWvF2CqXjySB",
        "colab_type": "code",
        "colab": {}
      },
      "source": [
        "my_list"
      ],
      "execution_count": 0,
      "outputs": []
    },
    {
      "cell_type": "markdown",
      "metadata": {
        "id": "xonABWbJjySH",
        "colab_type": "text"
      },
      "source": [
        "We can also use the * for a duplication method similar to strings:"
      ]
    },
    {
      "cell_type": "code",
      "metadata": {
        "id": "9UYFYJRmjySK",
        "colab_type": "code",
        "colab": {}
      },
      "source": [
        "# Make the list double\n",
        "my_list * 2"
      ],
      "execution_count": 0,
      "outputs": []
    },
    {
      "cell_type": "code",
      "metadata": {
        "id": "MNEOteKijySQ",
        "colab_type": "code",
        "colab": {}
      },
      "source": [
        "# Again doubling not permanent\n",
        "my_list"
      ],
      "execution_count": 0,
      "outputs": []
    },
    {
      "cell_type": "markdown",
      "metadata": {
        "id": "rTDcWFumjySU",
        "colab_type": "text"
      },
      "source": [
        "## Basic List Methods\n",
        "\n",
        "If you are familiar with another programming language, you might start to draw parallels between arrays in another language and lists in Python. Lists in Python however, tend to be more flexible than arrays in other languages for a two good reasons: they have no fixed size (meaning we don't have to specify how big a list will be), and they have no fixed type constraint (like we've seen above).\n",
        "\n",
        "Let's go ahead and explore some more special methods for lists:"
      ]
    },
    {
      "cell_type": "code",
      "metadata": {
        "id": "d6H5qeEpjySW",
        "colab_type": "code",
        "colab": {}
      },
      "source": [
        "# Create a new list\n",
        "l = [1,2,3]"
      ],
      "execution_count": 0,
      "outputs": []
    },
    {
      "cell_type": "markdown",
      "metadata": {
        "id": "U5TWep_FjySc",
        "colab_type": "text"
      },
      "source": [
        "Use the **append** method to permanently add an item to the end of a list:"
      ]
    },
    {
      "cell_type": "code",
      "metadata": {
        "id": "rlxg1vZkjySd",
        "colab_type": "code",
        "colab": {}
      },
      "source": [
        "# Append\n",
        "l.append('append me!')"
      ],
      "execution_count": 0,
      "outputs": []
    },
    {
      "cell_type": "code",
      "metadata": {
        "id": "60RXv0JXjySh",
        "colab_type": "code",
        "colab": {}
      },
      "source": [
        "# Show\n",
        "l"
      ],
      "execution_count": 0,
      "outputs": []
    },
    {
      "cell_type": "markdown",
      "metadata": {
        "id": "-bwjeL_cjySm",
        "colab_type": "text"
      },
      "source": [
        "Use **pop** to \"pop off\" an item from the list. By default pop takes off the last index, but you can also specify which index to pop off. Let's see an example:"
      ]
    },
    {
      "cell_type": "code",
      "metadata": {
        "id": "WZAq1NBVjySq",
        "colab_type": "code",
        "colab": {}
      },
      "source": [
        "# Pop off the 0 indexed item\n",
        "l.pop(0)"
      ],
      "execution_count": 0,
      "outputs": []
    },
    {
      "cell_type": "code",
      "metadata": {
        "id": "Qz3mddr5jySz",
        "colab_type": "code",
        "colab": {}
      },
      "source": [
        "# Show\n",
        "l"
      ],
      "execution_count": 0,
      "outputs": []
    },
    {
      "cell_type": "code",
      "metadata": {
        "id": "um7Ism1GjyS8",
        "colab_type": "code",
        "colab": {}
      },
      "source": [
        "# Assign the popped element, remember default popped index is -1\n",
        "popped_item = l.pop()"
      ],
      "execution_count": 0,
      "outputs": []
    },
    {
      "cell_type": "code",
      "metadata": {
        "id": "ZeVq8fcWjyTA",
        "colab_type": "code",
        "colab": {}
      },
      "source": [
        "popped_item"
      ],
      "execution_count": 0,
      "outputs": []
    },
    {
      "cell_type": "code",
      "metadata": {
        "id": "m-TQjYt4jyTF",
        "colab_type": "code",
        "colab": {}
      },
      "source": [
        "# Show remaining list\n",
        "l"
      ],
      "execution_count": 0,
      "outputs": []
    },
    {
      "cell_type": "markdown",
      "metadata": {
        "id": "hK7cwboejyTP",
        "colab_type": "text"
      },
      "source": [
        "It should also be noted that lists indexing will return an error if there is no element at that index. For example:"
      ]
    },
    {
      "cell_type": "code",
      "metadata": {
        "id": "-Vt13AMEjyTR",
        "colab_type": "code",
        "colab": {}
      },
      "source": [
        "l[100]"
      ],
      "execution_count": 0,
      "outputs": []
    },
    {
      "cell_type": "markdown",
      "metadata": {
        "id": "9Xb3B33WjyTV",
        "colab_type": "text"
      },
      "source": [
        "We can use the **sort** method and the **reverse** methods to also effect your lists:"
      ]
    },
    {
      "cell_type": "code",
      "metadata": {
        "id": "iYYSm6cAjyTV",
        "colab_type": "code",
        "colab": {}
      },
      "source": [
        "new_list = ['a','e','x','b','c']"
      ],
      "execution_count": 0,
      "outputs": []
    },
    {
      "cell_type": "code",
      "metadata": {
        "id": "BoWzYA7DjyTb",
        "colab_type": "code",
        "colab": {}
      },
      "source": [
        "#Show\n",
        "new_list"
      ],
      "execution_count": 0,
      "outputs": []
    },
    {
      "cell_type": "code",
      "metadata": {
        "id": "bAJDgQqUjyTf",
        "colab_type": "code",
        "colab": {}
      },
      "source": [
        "# Use reverse to reverse order (this is permanent!)\n",
        "new_list.reverse()"
      ],
      "execution_count": 0,
      "outputs": []
    },
    {
      "cell_type": "code",
      "metadata": {
        "id": "zuiBNJcpjyTh",
        "colab_type": "code",
        "colab": {}
      },
      "source": [
        "new_list"
      ],
      "execution_count": 0,
      "outputs": []
    },
    {
      "cell_type": "code",
      "metadata": {
        "id": "aQvwm9f2jyTk",
        "colab_type": "code",
        "colab": {}
      },
      "source": [
        "# Use sort to sort the list (in this case alphabetical order, but for numbers it will go ascending)\n",
        "new_list.sort()"
      ],
      "execution_count": 0,
      "outputs": []
    },
    {
      "cell_type": "code",
      "metadata": {
        "id": "ll3T0apRjyTq",
        "colab_type": "code",
        "colab": {}
      },
      "source": [
        "new_list"
      ],
      "execution_count": 0,
      "outputs": []
    },
    {
      "cell_type": "markdown",
      "metadata": {
        "id": "UYSTNU6IjyTw",
        "colab_type": "text"
      },
      "source": [
        "## Nesting Lists\n",
        "A great feature of of Python data structures is that they support *nesting*. This means we can have data structures within data structures. For example: A list inside a list.\n",
        "\n",
        "Let's see how this works!"
      ]
    },
    {
      "cell_type": "code",
      "metadata": {
        "id": "DRtXzdHqjyTx",
        "colab_type": "code",
        "colab": {}
      },
      "source": [
        "# Let's make three lists\n",
        "lst_1=[1,2,3]\n",
        "lst_2=[4,5,6]\n",
        "lst_3=[7,8,9]\n",
        "\n",
        "# Make a list of lists to form a matrix\n",
        "matrix = [lst_1,lst_2,lst_3]"
      ],
      "execution_count": 0,
      "outputs": []
    },
    {
      "cell_type": "code",
      "metadata": {
        "id": "PiGUsWELjyT1",
        "colab_type": "code",
        "colab": {}
      },
      "source": [
        "# Show\n",
        "matrix"
      ],
      "execution_count": 0,
      "outputs": []
    },
    {
      "cell_type": "markdown",
      "metadata": {
        "id": "lct3kIKqjyT6",
        "colab_type": "text"
      },
      "source": [
        "Now we can again use indexing to grab elements, but now there are two levels for the index. The items in the matrix object, and then the items inside that list!"
      ]
    },
    {
      "cell_type": "code",
      "metadata": {
        "id": "LaK_1Mb1jyT9",
        "colab_type": "code",
        "colab": {}
      },
      "source": [
        "# Grab first item in matrix object\n",
        "matrix[0]"
      ],
      "execution_count": 0,
      "outputs": []
    },
    {
      "cell_type": "code",
      "metadata": {
        "id": "7SHjrYyUjyUA",
        "colab_type": "code",
        "colab": {}
      },
      "source": [
        "# Grab first item of the first item in the matrix object\n",
        "matrix[0][0]"
      ],
      "execution_count": 0,
      "outputs": []
    },
    {
      "cell_type": "markdown",
      "metadata": {
        "id": "qp7bEbM1jyUF",
        "colab_type": "text"
      },
      "source": [
        "# List Comprehensions\n",
        "Python has an advanced feature called list comprehensions. They allow for quick construction of lists. To fully understand list comprehensions we need to understand for loops. So don't worry if you don't completely understand this section, and feel free to just skip it since we will return to this topic later.\n",
        "\n",
        "But in case you want to know now, here are a few examples!"
      ]
    },
    {
      "cell_type": "code",
      "metadata": {
        "id": "XT3cRgZIjyUG",
        "colab_type": "code",
        "colab": {}
      },
      "source": [
        "# Build a list comprehension by deconstructing a for loop within a []\n",
        "first_col = [row[0] for row in matrix]"
      ],
      "execution_count": 0,
      "outputs": []
    },
    {
      "cell_type": "code",
      "metadata": {
        "id": "OjPmZ8wvjyUM",
        "colab_type": "code",
        "colab": {}
      },
      "source": [
        "first_col"
      ],
      "execution_count": 0,
      "outputs": []
    },
    {
      "cell_type": "markdown",
      "metadata": {
        "id": "Qj-CFjvujyUR",
        "colab_type": "text"
      },
      "source": [
        "We used list comprehension here to grab the first element of every row in the matrix object. We will cover this in much more detail later on!\n",
        "\n",
        "For more advanced methods and features of lists in Python, we'll see later."
      ]
    },
    {
      "cell_type": "markdown",
      "metadata": {
        "id": "aEbop03HkT53",
        "colab_type": "text"
      },
      "source": [
        "## **Challenge Problem** [Hackerrank : Lists](https://www.hackerrank.com/challenges/python-lists/problem)\n",
        "\n",
        "Don't worry if you're not able to solve the problem. You can ask you're friend or mentor for help or you can just reffer to the solution.  \n",
        "\n",
        "For **Solution** go to the top click on the Editorial Tab and feel the answer or [click here](https://www.hackerrank.com/challenges/python-lists/editorial)"
      ]
    }
  ]
}