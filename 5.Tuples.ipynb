{
  "nbformat": 4,
  "nbformat_minor": 0,
  "metadata": {
    "kernelspec": {
      "display_name": "Python 2",
      "language": "python",
      "name": "python2"
    },
    "language_info": {
      "codemirror_mode": {
        "name": "ipython",
        "version": 2
      },
      "file_extension": ".py",
      "mimetype": "text/x-python",
      "name": "python",
      "nbconvert_exporter": "python",
      "pygments_lexer": "ipython2",
      "version": "2.7.10"
    },
    "colab": {
      "name": "5.Tuples.ipynb",
      "version": "0.3.2",
      "provenance": []
    }
  },
  "cells": [
    {
      "cell_type": "markdown",
      "metadata": {
        "id": "jzSIKmIjnxZR",
        "colab_type": "text"
      },
      "source": [
        "# Tuples\n",
        "\n",
        "In Python tuples are very similar to lists, however, unlike lists they are *immutable* meaning they can not be changed. You would use tuples to present things that shouldn't be changed, such as days of the week, or dates on a calendar. \n",
        "\n",
        "In this section, we will get a brief overview of the following:\n",
        "\n",
        "    1.) Constructing Tuples\n",
        "    2.) Basic Tuple Methods\n",
        "    3.) Immutability\n",
        "    4.) When to Use Tuples.\n",
        "\n",
        "You'll have an intuition of how to use tuples based on what you've learned about lists. We can treat them very similarly with the major distinction being that tuples are immutable.\n",
        "\n",
        "## Constructing Tuples\n",
        "\n",
        "The construction of a tuples use () with elements separated by commas. For example:"
      ]
    },
    {
      "cell_type": "code",
      "metadata": {
        "id": "Xrxel2omnxZU",
        "colab_type": "code",
        "colab": {}
      },
      "source": [
        "# Can create a tuple with mixed types\n",
        "t = (1,2,3)"
      ],
      "execution_count": 0,
      "outputs": []
    },
    {
      "cell_type": "code",
      "metadata": {
        "id": "KUlwrPvxnxZZ",
        "colab_type": "code",
        "colab": {}
      },
      "source": [
        "# Check len just like a list\n",
        "len(t)"
      ],
      "execution_count": 0,
      "outputs": []
    },
    {
      "cell_type": "code",
      "metadata": {
        "id": "TvgVjvlJnxZi",
        "colab_type": "code",
        "colab": {}
      },
      "source": [
        "# Can also mix object types\n",
        "t = ('one',2)\n",
        "\n",
        "# Show\n",
        "t"
      ],
      "execution_count": 0,
      "outputs": []
    },
    {
      "cell_type": "code",
      "metadata": {
        "id": "V2YLO5jgnxZn",
        "colab_type": "code",
        "colab": {}
      },
      "source": [
        "# Use indexing just like we did in lists\n",
        "t[0]"
      ],
      "execution_count": 0,
      "outputs": []
    },
    {
      "cell_type": "code",
      "metadata": {
        "id": "9Usvpa49nxZr",
        "colab_type": "code",
        "colab": {}
      },
      "source": [
        "# Slicing just like a list\n",
        "t[-1]"
      ],
      "execution_count": 0,
      "outputs": []
    },
    {
      "cell_type": "markdown",
      "metadata": {
        "id": "Guadxo4GnxZy",
        "colab_type": "text"
      },
      "source": [
        "## Basic Tuple Methods\n",
        "\n",
        "Tuples have built-in methods, but not as many as lists do. Lets look at two of them:"
      ]
    },
    {
      "cell_type": "code",
      "metadata": {
        "id": "8oKWU_rDnxZz",
        "colab_type": "code",
        "colab": {}
      },
      "source": [
        "# Use .index to enter a value and return the index\n",
        "t.index('one')"
      ],
      "execution_count": 0,
      "outputs": []
    },
    {
      "cell_type": "code",
      "metadata": {
        "id": "HyGJzsmgnxZ2",
        "colab_type": "code",
        "colab": {}
      },
      "source": [
        "# Use .count to count the number of times a value appears\n",
        "t.count('one')"
      ],
      "execution_count": 0,
      "outputs": []
    },
    {
      "cell_type": "markdown",
      "metadata": {
        "id": "qosVXLOjnxZ6",
        "colab_type": "text"
      },
      "source": [
        "## Immutability\n",
        "\n",
        "It can't be stressed enough that tuples are immutable. To drive that point home:"
      ]
    },
    {
      "cell_type": "code",
      "metadata": {
        "id": "Soj7m5t8nxZ7",
        "colab_type": "code",
        "colab": {}
      },
      "source": [
        "t[0]= 'change'"
      ],
      "execution_count": 0,
      "outputs": []
    },
    {
      "cell_type": "markdown",
      "metadata": {
        "id": "qvyYQ0N8nxaA",
        "colab_type": "text"
      },
      "source": [
        "Because of this immutability, tuples can't grow. Once a tuple is made we can not add to it."
      ]
    },
    {
      "cell_type": "code",
      "metadata": {
        "id": "KTWdnAXTnxaC",
        "colab_type": "code",
        "colab": {}
      },
      "source": [
        "t.append('nope')"
      ],
      "execution_count": 0,
      "outputs": []
    },
    {
      "cell_type": "markdown",
      "metadata": {
        "id": "zQh_pGsgnxaG",
        "colab_type": "text"
      },
      "source": [
        "## When to use Tuples\n",
        "\n",
        "You may be wondering, \"Why bother using tuples when they have fewer available methods?\" To be honest, tuples are not used as often as lists in programming, but are used when immutability is necessary. If in your program you are passing around an object and need to make sure it does not get changed, then tuple become your solution. It provides a convenient source of data integrity.\n",
        "\n",
        "You should now be able to create and use tuples in your programming as well as have an understanding of their immutability.\n",
        "\n",
        "Up next Files!"
      ]
    },
    {
      "cell_type": "markdown",
      "metadata": {
        "id": "qUvuiF9Mn30k",
        "colab_type": "text"
      },
      "source": [
        "## **Challenge Problem** [Hackerrank : Tuples](https://www.hackerrank.com/challenges/python-tuples/problem)  \n",
        "[Solution](https://www.hackerrank.com/challenges/python-tuples/editorial)"
      ]
    },
    {
      "cell_type": "markdown",
      "metadata": {
        "id": "Bue27Qh7oQ0J",
        "colab_type": "text"
      },
      "source": [
        "## **Challenge Problem** [Python: Division](https://www.hackerrank.com/challenges/python-division/problem)  \n",
        "[Solution](https://www.hackerrank.com/challenges/python-division/editorial)"
      ]
    },
    {
      "cell_type": "code",
      "metadata": {
        "id": "h-iNr2AVoZBS",
        "colab_type": "code",
        "colab": {}
      },
      "source": [
        ""
      ],
      "execution_count": 0,
      "outputs": []
    }
  ]
}