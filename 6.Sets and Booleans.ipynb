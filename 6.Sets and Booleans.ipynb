{
  "nbformat": 4,
  "nbformat_minor": 0,
  "metadata": {
    "kernelspec": {
      "display_name": "Python 2",
      "language": "python",
      "name": "python2"
    },
    "language_info": {
      "codemirror_mode": {
        "name": "ipython",
        "version": 2
      },
      "file_extension": ".py",
      "mimetype": "text/x-python",
      "name": "python",
      "nbconvert_exporter": "python",
      "pygments_lexer": "ipython2",
      "version": "2.7.10"
    },
    "colab": {
      "name": "6.Sets and Booleans.ipynb",
      "version": "0.3.2",
      "provenance": []
    }
  },
  "cells": [
    {
      "cell_type": "markdown",
      "metadata": {
        "id": "rEdrNzDAorlP",
        "colab_type": "text"
      },
      "source": [
        "# Set and Booleans\n",
        "\n",
        "There are two other object types in Python that we should quickly cover. Sets and Booleans. \n",
        "\n",
        "##Sets\n",
        "\n",
        "Sets are an unordered collection of *unique* elements. We can construct them by using the set() function. Let's go ahead and make a set to see how it works"
      ]
    },
    {
      "cell_type": "code",
      "metadata": {
        "id": "62x9XRdlorlV",
        "colab_type": "code",
        "colab": {}
      },
      "source": [
        "x = set()"
      ],
      "execution_count": 0,
      "outputs": []
    },
    {
      "cell_type": "code",
      "metadata": {
        "id": "NbDpYjKYorla",
        "colab_type": "code",
        "colab": {}
      },
      "source": [
        "# We add to sets with the add() method\n",
        "x.add(1)"
      ],
      "execution_count": 0,
      "outputs": []
    },
    {
      "cell_type": "code",
      "metadata": {
        "id": "b48JZfHworlg",
        "colab_type": "code",
        "colab": {}
      },
      "source": [
        "#Show\n",
        "x"
      ],
      "execution_count": 0,
      "outputs": []
    },
    {
      "cell_type": "markdown",
      "metadata": {
        "id": "tId-q6elorlo",
        "colab_type": "text"
      },
      "source": [
        "Note the curly brackets. This does not indicate a dictionary! Although you can draw analogies as a set being a dictionary with only keys.\n",
        "\n",
        "We know that a set has only unique entries. So what happens when we try to add something that is already in a set?"
      ]
    },
    {
      "cell_type": "code",
      "metadata": {
        "id": "1Z_d-fpTorlp",
        "colab_type": "code",
        "colab": {}
      },
      "source": [
        "# Add a different element\n",
        "x.add(2)"
      ],
      "execution_count": 0,
      "outputs": []
    },
    {
      "cell_type": "code",
      "metadata": {
        "id": "JjNkUcE-orlu",
        "colab_type": "code",
        "colab": {}
      },
      "source": [
        "#Show\n",
        "x"
      ],
      "execution_count": 0,
      "outputs": []
    },
    {
      "cell_type": "code",
      "metadata": {
        "id": "H4JGjjK2orl3",
        "colab_type": "code",
        "colab": {}
      },
      "source": [
        "# Try to add the same element\n",
        "x.add(1)"
      ],
      "execution_count": 0,
      "outputs": []
    },
    {
      "cell_type": "code",
      "metadata": {
        "id": "0z-v7-Nborl6",
        "colab_type": "code",
        "colab": {}
      },
      "source": [
        "#Show\n",
        "x"
      ],
      "execution_count": 0,
      "outputs": []
    },
    {
      "cell_type": "markdown",
      "metadata": {
        "id": "nq8DpMuxormA",
        "colab_type": "text"
      },
      "source": [
        "Notice how it won't place another 1 there. That's because a set is only concerned with unique elements! We can cast a list with multiple repeat elements to a set to get the unique elements. For example:"
      ]
    },
    {
      "cell_type": "code",
      "metadata": {
        "id": "VEhxqsUVormC",
        "colab_type": "code",
        "colab": {}
      },
      "source": [
        "# Create a list with repeats\n",
        "l = [1,1,2,2,3,4,5,6,1,1]"
      ],
      "execution_count": 0,
      "outputs": []
    },
    {
      "cell_type": "code",
      "metadata": {
        "id": "PH3_v9_GormJ",
        "colab_type": "code",
        "colab": {}
      },
      "source": [
        "# Cast as set to get unique values\n",
        "set(l)"
      ],
      "execution_count": 0,
      "outputs": []
    },
    {
      "cell_type": "markdown",
      "metadata": {
        "id": "-lXUSHGgormP",
        "colab_type": "text"
      },
      "source": [
        "## Booleans\n",
        "\n",
        "Python  comes with Booleans (with predefined True and False displays that are basically just the integers 1 and 0). It also has a placeholder object called None. Let's walk through a few quick examples of Booleans (we will dive deeper into them later in this course)."
      ]
    },
    {
      "cell_type": "code",
      "metadata": {
        "id": "NAl2g6zjormS",
        "colab_type": "code",
        "colab": {}
      },
      "source": [
        "# Set object to be a boolean\n",
        "a = True"
      ],
      "execution_count": 0,
      "outputs": []
    },
    {
      "cell_type": "code",
      "metadata": {
        "id": "wVd4F-YuormZ",
        "colab_type": "code",
        "colab": {}
      },
      "source": [
        "#Show\n",
        "a"
      ],
      "execution_count": 0,
      "outputs": []
    },
    {
      "cell_type": "markdown",
      "metadata": {
        "id": "SITakEi5ormd",
        "colab_type": "text"
      },
      "source": [
        "We can also use comparison operators to create booleans. We will go over all the comparison operators later on in the course."
      ]
    },
    {
      "cell_type": "code",
      "metadata": {
        "id": "aw1jzt6yorme",
        "colab_type": "code",
        "colab": {}
      },
      "source": [
        "# Output is boolean\n",
        "1 > 2"
      ],
      "execution_count": 0,
      "outputs": []
    },
    {
      "cell_type": "markdown",
      "metadata": {
        "id": "Lf42G2otormp",
        "colab_type": "text"
      },
      "source": [
        "We can use None as a placeholder for an object that we don't want to reassign yet:"
      ]
    },
    {
      "cell_type": "code",
      "metadata": {
        "id": "zANcHOucormr",
        "colab_type": "code",
        "colab": {}
      },
      "source": [
        "# None placeholder\n",
        "b = None"
      ],
      "execution_count": 0,
      "outputs": []
    },
    {
      "cell_type": "markdown",
      "metadata": {
        "id": "9OzrQQjTormu",
        "colab_type": "text"
      },
      "source": [
        "Thats it! You should now have a basic understanding of Python objects and data structure types. Next, go ahead and do the assessment test!"
      ]
    },
    {
      "cell_type": "markdown",
      "metadata": {
        "id": "YqDD1JhJo2zE",
        "colab_type": "text"
      },
      "source": [
        "## **Challenge Problems** \n",
        "## [Symmetric-Difference](https://www.hackerrank.com/challenges/symmetric-difference/problem) -> [Solution](https://www.hackerrank.com/challenges/symmetric-difference/editorial)\n",
        "\n",
        "## [Set .union() Operation](https://www.hackerrank.com/challenges/py-set-union/problem)  \n",
        "## [Set .intersection() Operation](https://www.hackerrank.com/challenges/py-set-intersection-operation/problem)  \n",
        "## [Set .difference() Operation](https://www.hackerrank.com/challenges/py-set-difference-operation/problem)  \n",
        "\n"
      ]
    },
    {
      "cell_type": "code",
      "metadata": {
        "id": "prEw7E2_pz_h",
        "colab_type": "code",
        "colab": {}
      },
      "source": [
        ""
      ],
      "execution_count": 0,
      "outputs": []
    }
  ]
}