{
  "nbformat": 4,
  "nbformat_minor": 0,
  "metadata": {
    "kernelspec": {
      "display_name": "Python 2",
      "language": "python",
      "name": "python2"
    },
    "language_info": {
      "codemirror_mode": {
        "name": "ipython",
        "version": 2
      },
      "file_extension": ".py",
      "mimetype": "text/x-python",
      "name": "python",
      "nbconvert_exporter": "python",
      "pygments_lexer": "ipython2",
      "version": "2.7.10"
    },
    "colab": {
      "name": "7.Comparison Operators.ipynb",
      "version": "0.3.2",
      "provenance": []
    }
  },
  "cells": [
    {
      "cell_type": "markdown",
      "metadata": {
        "id": "CqMZDnJ9qZd2",
        "colab_type": "text"
      },
      "source": [
        "# Comparison Operators \n",
        "\n",
        "In this lecture we will be learning about Comparison Operators in Python. These operators will allow us to compare variables and output a Boolean value (True or False). \n",
        "\n",
        "If you have any sort of background in Math, these operators should be very straight forward.\n",
        "\n",
        "First we'll present a table of the comparison operators and then work through some examples:\n",
        "\n",
        "## Table of Comparison Operators\n",
        "\n",
        "<table class=\"table table-bordered\">\n",
        "<tr>\n",
        "<th style=\"width:10%\">Operator</th><th style=\"width:45%\">Description</th><th>Example</th>\n",
        "</tr>\n",
        "<tr>\n",
        "<td>==</td>\n",
        "<td>If the values of two operands are equal, then the condition becomes true.</td>\n",
        "<td> (a == b) is not true.</td>\n",
        "</tr>\n",
        "<tr>\n",
        "<td>!=</td>\n",
        "<td>If values of two operands are not equal, then condition becomes true.</td>\n",
        "<td>(a != b) is true</td>\n",
        "</tr>\n",
        "<tr>\n",
        "<td>&lt;&gt;</td>\n",
        "<td>If values of two operands are not equal, then condition becomes true.</td>\n",
        "<td> (a &lt;&gt; b) is true. This is similar to != operator.</td>\n",
        "</tr>\n",
        "<tr>\n",
        "<td>&gt;</td>\n",
        "<td>If the value of left operand is greater than the value of right operand, then condition becomes true.</td>\n",
        "<td> (a &gt; b) is not true.</td>\n",
        "</tr>\n",
        "<tr>\n",
        "<td>&lt;</td>\n",
        "<td>If the value of left operand is less than the value of right operand, then condition becomes true.</td>\n",
        "<td> (a &lt; b) is true.</td>\n",
        "</tr>\n",
        "<tr>\n",
        "<td>&gt;=</td>\n",
        "<td>If the value of left operand is greater than or equal to the value of right operand, then condition becomes true.</td>\n",
        "<td> (a &gt;= b) is not true. </td>\n",
        "</tr>\n",
        "<tr>\n",
        "<td>&lt;=</td>\n",
        "<td>If the value of left operand is less than or equal to the value of right operand, then condition becomes true.</td>\n",
        "<td> (a &lt;= b) is true. </td>\n",
        "</tr>\n",
        "</table>"
      ]
    },
    {
      "cell_type": "markdown",
      "metadata": {
        "id": "xGkQAucdqZd5",
        "colab_type": "text"
      },
      "source": [
        "Let's now work through quick examples of each of these.\n",
        "\n",
        "####Equal"
      ]
    },
    {
      "cell_type": "code",
      "metadata": {
        "id": "bYJYIlI6qZd7",
        "colab_type": "code",
        "colab": {}
      },
      "source": [
        "2 == 2"
      ],
      "execution_count": 0,
      "outputs": []
    },
    {
      "cell_type": "code",
      "metadata": {
        "id": "RHGjFyu4qZeF",
        "colab_type": "code",
        "colab": {}
      },
      "source": [
        "1 == 0"
      ],
      "execution_count": 0,
      "outputs": []
    },
    {
      "cell_type": "markdown",
      "metadata": {
        "id": "k5e7xa3WqZeJ",
        "colab_type": "text"
      },
      "source": [
        "#### Not Equal"
      ]
    },
    {
      "cell_type": "code",
      "metadata": {
        "id": "cedag2l8qZeK",
        "colab_type": "code",
        "colab": {}
      },
      "source": [
        "2 != 1"
      ],
      "execution_count": 0,
      "outputs": []
    },
    {
      "cell_type": "code",
      "metadata": {
        "id": "BL9Qf6xdqZeO",
        "colab_type": "code",
        "colab": {}
      },
      "source": [
        "2 != 2"
      ],
      "execution_count": 0,
      "outputs": []
    },
    {
      "cell_type": "code",
      "metadata": {
        "id": "ejEMgrP5qZeV",
        "colab_type": "code",
        "colab": {}
      },
      "source": [
        "2 <> 1"
      ],
      "execution_count": 0,
      "outputs": []
    },
    {
      "cell_type": "code",
      "metadata": {
        "id": "pDoFOOoYqZeZ",
        "colab_type": "code",
        "colab": {}
      },
      "source": [
        "2 <> 2"
      ],
      "execution_count": 0,
      "outputs": []
    },
    {
      "cell_type": "markdown",
      "metadata": {
        "id": "5VvkCNSeqZed",
        "colab_type": "text"
      },
      "source": [
        "#### Greater Than"
      ]
    },
    {
      "cell_type": "code",
      "metadata": {
        "id": "3opGHAeCqZef",
        "colab_type": "code",
        "colab": {}
      },
      "source": [
        "2 > 1"
      ],
      "execution_count": 0,
      "outputs": []
    },
    {
      "cell_type": "code",
      "metadata": {
        "id": "aBYzY-pAqZem",
        "colab_type": "code",
        "colab": {}
      },
      "source": [
        "2 > 4"
      ],
      "execution_count": 0,
      "outputs": []
    },
    {
      "cell_type": "markdown",
      "metadata": {
        "id": "0yGbKpryqZet",
        "colab_type": "text"
      },
      "source": [
        "#### Less Than"
      ]
    },
    {
      "cell_type": "code",
      "metadata": {
        "id": "w_PD6H2JqZev",
        "colab_type": "code",
        "colab": {}
      },
      "source": [
        "2 < 4"
      ],
      "execution_count": 0,
      "outputs": []
    },
    {
      "cell_type": "code",
      "metadata": {
        "id": "kx66sWxsqZe7",
        "colab_type": "code",
        "colab": {}
      },
      "source": [
        "2 < 1"
      ],
      "execution_count": 0,
      "outputs": []
    },
    {
      "cell_type": "markdown",
      "metadata": {
        "id": "ZVjbeQO2qZe_",
        "colab_type": "text"
      },
      "source": [
        "#### Greater Than or Equal to"
      ]
    },
    {
      "cell_type": "code",
      "metadata": {
        "id": "UEtryno_qZfE",
        "colab_type": "code",
        "colab": {}
      },
      "source": [
        "2 >= 2"
      ],
      "execution_count": 0,
      "outputs": []
    },
    {
      "cell_type": "code",
      "metadata": {
        "id": "lpQzL1RSqZfJ",
        "colab_type": "code",
        "colab": {}
      },
      "source": [
        "2 >= 1"
      ],
      "execution_count": 0,
      "outputs": []
    },
    {
      "cell_type": "markdown",
      "metadata": {
        "id": "6_efSQ3uqZfM",
        "colab_type": "text"
      },
      "source": [
        "#### Less than or Equal to"
      ]
    },
    {
      "cell_type": "code",
      "metadata": {
        "id": "XkUuBH8PqZfN",
        "colab_type": "code",
        "colab": {}
      },
      "source": [
        "2 <= 2"
      ],
      "execution_count": 0,
      "outputs": []
    },
    {
      "cell_type": "code",
      "metadata": {
        "id": "rB4s3v3bqZfR",
        "colab_type": "code",
        "colab": {}
      },
      "source": [
        "2 <= 4"
      ],
      "execution_count": 0,
      "outputs": []
    },
    {
      "cell_type": "markdown",
      "metadata": {
        "id": "xeIdMXYTqZfY",
        "colab_type": "text"
      },
      "source": [
        "**Great! Go over each comparison operator to make sure you understand what each one is saying. But hopefully this was straightforward for you**\n",
        "\n",
        "Next we will cover chained comparison operators"
      ]
    }
  ]
}