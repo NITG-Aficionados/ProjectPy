{
  "nbformat": 4,
  "nbformat_minor": 0,
  "metadata": {
    "kernelspec": {
      "display_name": "Python 2",
      "language": "python",
      "name": "python2"
    },
    "language_info": {
      "codemirror_mode": {
        "name": "ipython",
        "version": 2
      },
      "file_extension": ".py",
      "mimetype": "text/x-python",
      "name": "python",
      "nbconvert_exporter": "python",
      "pygments_lexer": "ipython2",
      "version": "2.7.10"
    },
    "colab": {
      "name": "8.Chained Comparison Operators.ipynb",
      "version": "0.3.2",
      "provenance": []
    }
  },
  "cells": [
    {
      "cell_type": "markdown",
      "metadata": {
        "id": "PkIFEfi7qqQa",
        "colab_type": "text"
      },
      "source": [
        "# Chained Comparison Operators\n",
        "\n",
        "An interesting feature of Python is the ability to *chain* multiple comparisons to perform a more complex test. You can use these chained comparisons as a shorthand for larger Boolean Expressions.\n",
        "\n",
        "In this lecture we will learn how to chain comparison operators and we will also introduce two other important statements in python: **and** and **or**.\n",
        "\n",
        "Let's look at a few examples of using chains:"
      ]
    },
    {
      "cell_type": "code",
      "metadata": {
        "id": "brMULhaeqqQd",
        "colab_type": "code",
        "colab": {}
      },
      "source": [
        "1 < 2 < 3"
      ],
      "execution_count": 0,
      "outputs": []
    },
    {
      "cell_type": "markdown",
      "metadata": {
        "id": "tsgP9yasqqQk",
        "colab_type": "text"
      },
      "source": [
        "The above statement check if 1 was less than 2 **and** if 2 was less than 3. We could have written this using an **and** statement in Python:"
      ]
    },
    {
      "cell_type": "code",
      "metadata": {
        "id": "4O7nknKDqqQl",
        "colab_type": "code",
        "colab": {}
      },
      "source": [
        "1<2 and 2<3"
      ],
      "execution_count": 0,
      "outputs": []
    },
    {
      "cell_type": "markdown",
      "metadata": {
        "id": "eAeB2hwJqqQp",
        "colab_type": "text"
      },
      "source": [
        "The **and** is used to make sure two checks have to be true in order for the total check to be true. Let's see another example:"
      ]
    },
    {
      "cell_type": "markdown",
      "metadata": {
        "id": "03e2tERKqtWJ",
        "colab_type": "text"
      },
      "source": [
        ""
      ]
    },
    {
      "cell_type": "code",
      "metadata": {
        "id": "yNQslVScqqQq",
        "colab_type": "code",
        "colab": {}
      },
      "source": [
        "1 < 3 > 2"
      ],
      "execution_count": 0,
      "outputs": []
    },
    {
      "cell_type": "markdown",
      "metadata": {
        "id": "CGg85YnPqqQw",
        "colab_type": "text"
      },
      "source": [
        "The above checks if 3 is larger than both the other numbers, so you could use **and** to rewrite it as:"
      ]
    },
    {
      "cell_type": "code",
      "metadata": {
        "id": "ADhQmAcrqqQy",
        "colab_type": "code",
        "colab": {}
      },
      "source": [
        "1<3 and 3>2"
      ],
      "execution_count": 0,
      "outputs": []
    },
    {
      "cell_type": "markdown",
      "metadata": {
        "id": "8H7yO3E8qqQ2",
        "colab_type": "text"
      },
      "source": [
        "Its important to note that Python is checking both instances of the comparisons. We can also use **or** to write comparisons in Python. For example:"
      ]
    },
    {
      "cell_type": "code",
      "metadata": {
        "id": "eC2p0JvPqqQ3",
        "colab_type": "code",
        "colab": {}
      },
      "source": [
        "1==2 or 2<3"
      ],
      "execution_count": 0,
      "outputs": []
    },
    {
      "cell_type": "markdown",
      "metadata": {
        "id": "FfYQwW2wqqQ7",
        "colab_type": "text"
      },
      "source": [
        "Note how it was true, this is because with the **or** operator, we only need one *or* the other two be true. Let's see one more example to drive this home:"
      ]
    },
    {
      "cell_type": "code",
      "metadata": {
        "id": "sbMPTAnCqqQ-",
        "colab_type": "code",
        "colab": {}
      },
      "source": [
        "1==1 or 100==1"
      ],
      "execution_count": 0,
      "outputs": []
    },
    {
      "cell_type": "markdown",
      "metadata": {
        "id": "CtulyF_vqqRE",
        "colab_type": "text"
      },
      "source": [
        "Great! For an overview of this quick lesson: You should have a comfortable understanding of using **and** and **or** statements as well as reading chained comparison code.\n",
        "\n",
        "Go ahead and go to the quiz for this section to check your understanding!"
      ]
    }
  ]
}